{
  "nbformat": 4,
  "nbformat_minor": 0,
  "metadata": {
    "colab": {
      "name": "log Reg Project",
      "provenance": [],
      "collapsed_sections": [],
      "authorship_tag": "ABX9TyP0Hi6CtHSk1IeNdUzLGeFv",
      "include_colab_link": true
    },
    "kernelspec": {
      "name": "python3",
      "display_name": "Python 3"
    },
    "language_info": {
      "name": "python"
    }
  },
  "cells": [
    {
      "cell_type": "markdown",
      "metadata": {
        "id": "view-in-github",
        "colab_type": "text"
      },
      "source": [
        "<a href=\"https://colab.research.google.com/github/jeanpaulnazon/jeanpaulnazon.github.io/blob/master/log_Reg_Project.ipynb\" target=\"_parent\"><img src=\"https://colab.research.google.com/assets/colab-badge.svg\" alt=\"Open In Colab\"/></a>"
      ]
    },
    {
      "cell_type": "code",
      "metadata": {
        "id": "MYR_AyMFLL7L"
      },
      "source": [
        "import pandas as pd\n",
        "import numpy as np\n",
        "\n",
        "import warnings\n",
        "warnings.filterwarnings('ignore')\n",
        "from sklearn.linear_model import LogisticRegression\n",
        "from sklearn.model_selection import train_test_split\n",
        "from sklearn.metrics import classification_report\n",
        "from sklearn.metrics import accuracy_score\n",
        "from sklearn.metrics import mean_squared_error,mean_absolute_error, r2_score\n",
        "from sklearn import preprocessing\n",
        "import seaborn as sns\n",
        "import matplotlib.pyplot as plt\n",
        "plt.rc(\"font\", size=14)\n",
        "%matplotlib inline\n",
        "sns.set(style='white', color_codes=True)\n",
        "sns.set(style=\"whitegrid\", color_codes=True)"
      ],
      "execution_count": null,
      "outputs": []
    },
    {
      "cell_type": "code",
      "metadata": {
        "id": "atby71PqKffN"
      },
      "source": [
        "import requests #importing data portu_banking_final.csv using the web link\n",
        "url = 'https://raw.githubusercontent.com/Tech-i-s/techis-ds-wiki/master/Step%203-2%20Classification%20Algos/01_logistic-regression/Log_reg_project/portu_banking_final.csv?token=AR7HP3BRORBE5JZYFUPW5KDAMINUW'\n",
        "res = requests.get(url, allow_redirects=True)\n",
        "with open('portu_banking_final.csv','wb') as file:\n",
        "    file.write(res.content)\n",
        "Data = pd.read_csv('portu_banking_final.csv')"
      ],
      "execution_count": null,
      "outputs": []
    },
    {
      "cell_type": "code",
      "metadata": {
        "colab": {
          "base_uri": "https://localhost:8080/"
        },
        "id": "pwF7LJGXLwsz",
        "outputId": "8c3c59f7-b2c3-4917-e1fa-4ed8a2ef89b4"
      },
      "source": [
        "Data = Data.dropna()\n",
        "print(Data.shape) # the data received from the bank has 41188 rows and 21 features\n",
        "print(list(Data.columns))\n",
        "print(Data.head())\n",
        "print(Data.describe())\n",
        "print(Data.info())\n",
        "\n"
      ],
      "execution_count": null,
      "outputs": [
        {
          "output_type": "stream",
          "text": [
            "(41188, 21)\n",
            "['age', 'job', 'marital', 'education', 'default', 'housing', 'loan', 'contact', 'month', 'day_of_week', 'duration', 'campaign', 'pdays', 'previous', 'poutcome', 'emp_var_rate', 'cons_price_idx', 'cons_conf_idx', 'euribor3m', 'nr_employed', 'y']\n",
            "  age          job  marital  ... euribor3m nr_employed  y\n",
            "0  44  blue-collar  married  ...     4.963      5228.1  0\n",
            "1  53   technician  married  ...     4.021      5195.8  0\n",
            "2  28   management   single  ...     0.729      4991.6  1\n",
            "3  39     services  married  ...     1.405      5099.1  0\n",
            "4  55      retired  married  ...     0.869      5076.2  1\n",
            "\n",
            "[5 rows x 21 columns]\n",
            "           duration      campaign  ...   nr_employed             y\n",
            "count  41188.000000  41188.000000  ...  41188.000000  41188.000000\n",
            "mean     258.285010      2.567593  ...   5167.035911      0.112654\n",
            "std      259.279249      2.770014  ...     72.251528      0.316173\n",
            "min        0.000000      1.000000  ...   4963.600000      0.000000\n",
            "25%      102.000000      1.000000  ...   5099.100000      0.000000\n",
            "50%      180.000000      2.000000  ...   5191.000000      0.000000\n",
            "75%      319.000000      3.000000  ...   5228.100000      0.000000\n",
            "max     4918.000000     56.000000  ...   5228.100000      1.000000\n",
            "\n",
            "[8 rows x 10 columns]\n",
            "<class 'pandas.core.frame.DataFrame'>\n",
            "Int64Index: 41188 entries, 0 to 41187\n",
            "Data columns (total 21 columns):\n",
            " #   Column          Non-Null Count  Dtype  \n",
            "---  ------          --------------  -----  \n",
            " 0   age             41188 non-null  object \n",
            " 1   job             41188 non-null  object \n",
            " 2   marital         41188 non-null  object \n",
            " 3   education       41188 non-null  object \n",
            " 4   default         41188 non-null  object \n",
            " 5   housing         41188 non-null  object \n",
            " 6   loan            41188 non-null  object \n",
            " 7   contact         41188 non-null  object \n",
            " 8   month           41188 non-null  object \n",
            " 9   day_of_week     41188 non-null  object \n",
            " 10  duration        41188 non-null  int64  \n",
            " 11  campaign        41188 non-null  int64  \n",
            " 12  pdays           41188 non-null  float64\n",
            " 13  previous        41188 non-null  int64  \n",
            " 14  poutcome        41188 non-null  object \n",
            " 15  emp_var_rate    41188 non-null  float64\n",
            " 16  cons_price_idx  41188 non-null  float64\n",
            " 17  cons_conf_idx   41188 non-null  float64\n",
            " 18  euribor3m       41188 non-null  float64\n",
            " 19  nr_employed     41188 non-null  float64\n",
            " 20  y               41188 non-null  int64  \n",
            "dtypes: float64(6), int64(4), object(11)\n",
            "memory usage: 6.9+ MB\n",
            "None\n"
          ],
          "name": "stdout"
        }
      ]
    },
    {
      "cell_type": "code",
      "metadata": {
        "colab": {
          "base_uri": "https://localhost:8080/"
        },
        "id": "9CPhtyVhuO7E",
        "outputId": "9e9e32a1-201d-4753-ab33-6c075d78955b"
      },
      "source": [
        "Data['education'].unique() # cleaning the data for noises"
      ],
      "execution_count": null,
      "outputs": [
        {
          "output_type": "execute_result",
          "data": {
            "text/plain": [
              "array(['basic.4y', 'unknown', 'university.degree', 'high.school',\n",
              "       'basic.9y', 'professional.course', 'basic.6y', 'basic-6y',\n",
              "       'basic-9y', 'basic-4y', 'illiterate'], dtype=object)"
            ]
          },
          "metadata": {
            "tags": []
          },
          "execution_count": 5
        }
      ]
    },
    {
      "cell_type": "code",
      "metadata": {
        "id": "Ipg-7Jul1yyw"
      },
      "source": [
        "#grouping to reduce noises\n",
        "Data['education']=np.where(Data['education'] =='basic.9y', 'Basic', Data['education'])\n",
        "Data['education']=np.where(Data['education'] =='basic.6y', 'Basic', Data['education'])\n",
        "Data['education']=np.where(Data['education'] =='basic.4y', 'Basic', Data['education'])"
      ],
      "execution_count": null,
      "outputs": []
    },
    {
      "cell_type": "code",
      "metadata": {
        "colab": {
          "base_uri": "https://localhost:8080/"
        },
        "id": "jFmDQ9fbvAQD",
        "outputId": "fe3125b2-9c53-4668-daa4-5cd9e260586a"
      },
      "source": [
        "Data['education'].unique()"
      ],
      "execution_count": null,
      "outputs": [
        {
          "output_type": "execute_result",
          "data": {
            "text/plain": [
              "array(['Basic', 'unknown', 'university.degree', 'high.school',\n",
              "       'professional.course', 'basic-6y', 'basic-9y', 'basic-4y',\n",
              "       'illiterate'], dtype=object)"
            ]
          },
          "metadata": {
            "tags": []
          },
          "execution_count": 7
        }
      ]
    },
    {
      "cell_type": "code",
      "metadata": {
        "colab": {
          "base_uri": "https://localhost:8080/"
        },
        "id": "G6tAjS2QsErb",
        "outputId": "f9e5b6d6-b873-4076-8899-358e46376353"
      },
      "source": [
        "Data['age'].unique()"
      ],
      "execution_count": null,
      "outputs": [
        {
          "output_type": "execute_result",
          "data": {
            "text/plain": [
              "array(['44', '53', '28', '39', '55', '30', '37', '36', '27', '34', '41',\n",
              "       '33', '26', '52', '35', '40', '32', '49', '38', '47', '46', '29',\n",
              "       '54', '42', '72', '48', '43', '56', '31', '24', '68', '59', '50',\n",
              "       '45', '25', '57', '63', '58', '60', '64', '51', '23', '20', '74',\n",
              "       '80', '61', '62', '75', '21', '82', '77', '70', '76', '73', '66',\n",
              "       '22', '71', '19', '79', '88', '65', '67', '81', '18', '84', '69',\n",
              "       '98', '85', '83', '78', '92', '86', '94', '17', '91', '89', '87',\n",
              "       '95'], dtype=object)"
            ]
          },
          "metadata": {
            "tags": []
          },
          "execution_count": 37
        }
      ]
    },
    {
      "cell_type": "code",
      "metadata": {
        "colab": {
          "base_uri": "https://localhost:8080/"
        },
        "id": "dGBUe-BFSj_u",
        "outputId": "4b65d511-5be2-42fe-887d-429c3e2cf3f7"
      },
      "source": [
        "print(Data['y'].value_counts()) # the feature 'y' 1 = Yes and 0 = No"
      ],
      "execution_count": null,
      "outputs": [
        {
          "output_type": "stream",
          "text": [
            "0    36548\n",
            "1     4640\n",
            "Name: y, dtype: int64\n"
          ],
          "name": "stdout"
        }
      ]
    },
    {
      "cell_type": "code",
      "metadata": {
        "colab": {
          "base_uri": "https://localhost:8080/",
          "height": 302
        },
        "id": "a9_VN0LnUCVK",
        "outputId": "eeada218-d16a-4c42-89c6-044218db8ef7"
      },
      "source": [
        "sns.countplot(x='y',data=Data,palette='hls') # the classes  are not balanced \n",
        "plt.show()\n",
        "plt.savefig('count_plot')"
      ],
      "execution_count": null,
      "outputs": [
        {
          "output_type": "display_data",
          "data": {
            "image/png": "[encoded data removed]",
            "text/plain": [
              "<Figure size 432x288 with 1 Axes>"
            ]
          },
          "metadata": {
            "tags": []
          }
        },
        {
          "output_type": "display_data",
          "data": {
            "text/plain": [
              "<Figure size 432x288 with 0 Axes>"
            ]
          },
          "metadata": {
            "tags": []
          }
        }
      ]
    },
    {
      "cell_type": "code",
      "metadata": {
        "colab": {
          "base_uri": "https://localhost:8080/"
        },
        "id": "8tWhNkEIw4xS",
        "outputId": "d4b54cb2-c401-4350-f775-0d4a11ef8448"
      },
      "source": [
        "count_no_sub = len(Data[Data['y']==0])\n",
        "count_sub = len(Data[Data['y']==1])\n",
        "pct_of_no_sub = count_no_sub/(count_no_sub+count_sub)\n",
        "print(\"percentage of no subscription is\", pct_of_no_sub*100)\n",
        "pct_of_sub = count_sub/(count_no_sub+count_sub)\n",
        "print(\"percentage of subscription\", pct_of_sub*100)"
      ],
      "execution_count": null,
      "outputs": [
        {
          "output_type": "stream",
          "text": [
            "percentage of no subscription is 88.73458288821988\n",
            "percentage of subscription 11.265417111780131\n"
          ],
          "name": "stdout"
        }
      ]
    },
    {
      "cell_type": "code",
      "metadata": {
        "colab": {
          "base_uri": "https://localhost:8080/",
          "height": 139
        },
        "id": "warIQN72zmUe",
        "outputId": "8510862b-c4ce-4388-fa0d-811d8bbc3c60"
      },
      "source": [
        "Data.groupby('y').mean()"
      ],
      "execution_count": null,
      "outputs": [
        {
          "output_type": "execute_result",
          "data": {
            "text/html": [
              "<div>\n",
              "<style scoped>\n",
              "    .dataframe tbody tr th:only-of-type {\n",
              "        vertical-align: middle;\n",
              "    }\n",
              "\n",
              "    .dataframe tbody tr th {\n",
              "        vertical-align: top;\n",
              "    }\n",
              "\n",
              "    .dataframe thead th {\n",
              "        text-align: right;\n",
              "    }\n",
              "</style>\n",
              "<table border=\"1\" class=\"dataframe\">\n",
              "  <thead>\n",
              "    <tr style=\"text-align: right;\">\n",
              "      <th></th>\n",
              "      <th>age</th>\n",
              "      <th>duration</th>\n",
              "      <th>campaign</th>\n",
              "      <th>pdays</th>\n",
              "      <th>previous</th>\n",
              "      <th>emp_var_rate</th>\n",
              "      <th>cons_price_idx</th>\n",
              "      <th>cons_conf_idx</th>\n",
              "      <th>euribor3m</th>\n",
              "      <th>nr_employed</th>\n",
              "    </tr>\n",
              "    <tr>\n",
              "      <th>y</th>\n",
              "      <th></th>\n",
              "      <th></th>\n",
              "      <th></th>\n",
              "      <th></th>\n",
              "      <th></th>\n",
              "      <th></th>\n",
              "      <th></th>\n",
              "      <th></th>\n",
              "      <th></th>\n",
              "      <th></th>\n",
              "    </tr>\n",
              "  </thead>\n",
              "  <tbody>\n",
              "    <tr>\n",
              "      <th>0</th>\n",
              "      <td>39.910638</td>\n",
              "      <td>220.844807</td>\n",
              "      <td>2.633085</td>\n",
              "      <td>985.345135</td>\n",
              "      <td>0.132374</td>\n",
              "      <td>0.248875</td>\n",
              "      <td>93.603757</td>\n",
              "      <td>-40.593097</td>\n",
              "      <td>3.811491</td>\n",
              "      <td>5176.166600</td>\n",
              "    </tr>\n",
              "    <tr>\n",
              "      <th>1</th>\n",
              "      <td>40.913147</td>\n",
              "      <td>553.191164</td>\n",
              "      <td>2.051724</td>\n",
              "      <td>792.035560</td>\n",
              "      <td>0.492672</td>\n",
              "      <td>-1.233448</td>\n",
              "      <td>93.354386</td>\n",
              "      <td>-39.789784</td>\n",
              "      <td>2.123135</td>\n",
              "      <td>5095.115991</td>\n",
              "    </tr>\n",
              "  </tbody>\n",
              "</table>\n",
              "</div>"
            ],
            "text/plain": [
              "         age    duration  campaign  ...  cons_conf_idx  euribor3m  nr_employed\n",
              "y                                   ...                                       \n",
              "0  39.910638  220.844807  2.633085  ...     -40.593097   3.811491  5176.166600\n",
              "1  40.913147  553.191164  2.051724  ...     -39.789784   2.123135  5095.115991\n",
              "\n",
              "[2 rows x 10 columns]"
            ]
          },
          "metadata": {
            "tags": []
          },
          "execution_count": 15
        }
      ]
    },
    {
      "cell_type": "code",
      "metadata": {
        "colab": {
          "base_uri": "https://localhost:8080/",
          "height": 734
        },
        "id": "sznWJeGR0FVS",
        "outputId": "d7af1f61-a5d7-46a4-bffc-a3a43191b70f"
      },
      "source": [
        "Data.groupby('job').mean()"
      ],
      "execution_count": null,
      "outputs": [
        {
          "output_type": "execute_result",
          "data": {
            "text/html": [
              "<div>\n",
              "<style scoped>\n",
              "    .dataframe tbody tr th:only-of-type {\n",
              "        vertical-align: middle;\n",
              "    }\n",
              "\n",
              "    .dataframe tbody tr th {\n",
              "        vertical-align: top;\n",
              "    }\n",
              "\n",
              "    .dataframe thead th {\n",
              "        text-align: right;\n",
              "    }\n",
              "</style>\n",
              "<table border=\"1\" class=\"dataframe\">\n",
              "  <thead>\n",
              "    <tr style=\"text-align: right;\">\n",
              "      <th></th>\n",
              "      <th>age</th>\n",
              "      <th>duration</th>\n",
              "      <th>campaign</th>\n",
              "      <th>pdays</th>\n",
              "      <th>previous</th>\n",
              "      <th>emp_var_rate</th>\n",
              "      <th>cons_price_idx</th>\n",
              "      <th>cons_conf_idx</th>\n",
              "      <th>euribor3m</th>\n",
              "      <th>nr_employed</th>\n",
              "      <th>y</th>\n",
              "    </tr>\n",
              "    <tr>\n",
              "      <th>job</th>\n",
              "      <th></th>\n",
              "      <th></th>\n",
              "      <th></th>\n",
              "      <th></th>\n",
              "      <th></th>\n",
              "      <th></th>\n",
              "      <th></th>\n",
              "      <th></th>\n",
              "      <th></th>\n",
              "      <th></th>\n",
              "      <th></th>\n",
              "    </tr>\n",
              "  </thead>\n",
              "  <tbody>\n",
              "    <tr>\n",
              "      <th>ADMIN.</th>\n",
              "      <td>35.000000</td>\n",
              "      <td>637.000000</td>\n",
              "      <td>1.500000</td>\n",
              "      <td>999.000000</td>\n",
              "      <td>0.000000</td>\n",
              "      <td>1.100000</td>\n",
              "      <td>93.994000</td>\n",
              "      <td>-36.400000</td>\n",
              "      <td>4.858500</td>\n",
              "      <td>5191.000000</td>\n",
              "      <td>0.000000</td>\n",
              "    </tr>\n",
              "    <tr>\n",
              "      <th>BLUE-COLLAR</th>\n",
              "      <td>47.000000</td>\n",
              "      <td>5.000000</td>\n",
              "      <td>7.000000</td>\n",
              "      <td>999.000000</td>\n",
              "      <td>1.000000</td>\n",
              "      <td>-1.800000</td>\n",
              "      <td>92.893000</td>\n",
              "      <td>-46.200000</td>\n",
              "      <td>1.281000</td>\n",
              "      <td>5099.100000</td>\n",
              "      <td>0.000000</td>\n",
              "    </tr>\n",
              "    <tr>\n",
              "      <th>HOUSEMAID</th>\n",
              "      <td>36.000000</td>\n",
              "      <td>84.000000</td>\n",
              "      <td>1.000000</td>\n",
              "      <td>999.000000</td>\n",
              "      <td>0.000000</td>\n",
              "      <td>-0.100000</td>\n",
              "      <td>93.200000</td>\n",
              "      <td>-42.000000</td>\n",
              "      <td>4.153000</td>\n",
              "      <td>5195.800000</td>\n",
              "      <td>0.000000</td>\n",
              "    </tr>\n",
              "    <tr>\n",
              "      <th>MANAGEMENT</th>\n",
              "      <td>36.000000</td>\n",
              "      <td>1225.000000</td>\n",
              "      <td>2.000000</td>\n",
              "      <td>999.000000</td>\n",
              "      <td>0.000000</td>\n",
              "      <td>-2.900000</td>\n",
              "      <td>92.201000</td>\n",
              "      <td>-31.400000</td>\n",
              "      <td>0.884000</td>\n",
              "      <td>5076.200000</td>\n",
              "      <td>0.000000</td>\n",
              "    </tr>\n",
              "    <tr>\n",
              "      <th>RETIRED</th>\n",
              "      <td>69.666667</td>\n",
              "      <td>545.000000</td>\n",
              "      <td>1.666667</td>\n",
              "      <td>668.000000</td>\n",
              "      <td>1.000000</td>\n",
              "      <td>-1.566667</td>\n",
              "      <td>93.142667</td>\n",
              "      <td>-37.233333</td>\n",
              "      <td>1.976667</td>\n",
              "      <td>5087.866667</td>\n",
              "      <td>0.333333</td>\n",
              "    </tr>\n",
              "    <tr>\n",
              "      <th>SERVICES</th>\n",
              "      <td>37.333333</td>\n",
              "      <td>238.333333</td>\n",
              "      <td>2.000000</td>\n",
              "      <td>999.000000</td>\n",
              "      <td>0.000000</td>\n",
              "      <td>1.200000</td>\n",
              "      <td>94.151000</td>\n",
              "      <td>-38.200000</td>\n",
              "      <td>4.892000</td>\n",
              "      <td>5203.366667</td>\n",
              "      <td>0.000000</td>\n",
              "    </tr>\n",
              "    <tr>\n",
              "      <th>STUDENT</th>\n",
              "      <td>24.500000</td>\n",
              "      <td>638.500000</td>\n",
              "      <td>1.500000</td>\n",
              "      <td>505.500000</td>\n",
              "      <td>0.500000</td>\n",
              "      <td>-1.750000</td>\n",
              "      <td>94.045500</td>\n",
              "      <td>-40.150000</td>\n",
              "      <td>0.752500</td>\n",
              "      <td>5000.150000</td>\n",
              "      <td>1.000000</td>\n",
              "    </tr>\n",
              "    <tr>\n",
              "      <th>TECHNICIAN</th>\n",
              "      <td>37.000000</td>\n",
              "      <td>834.000000</td>\n",
              "      <td>9.000000</td>\n",
              "      <td>999.000000</td>\n",
              "      <td>0.000000</td>\n",
              "      <td>1.100000</td>\n",
              "      <td>93.994000</td>\n",
              "      <td>-36.400000</td>\n",
              "      <td>4.855000</td>\n",
              "      <td>5191.000000</td>\n",
              "      <td>0.000000</td>\n",
              "    </tr>\n",
              "    <tr>\n",
              "      <th>UNKNOWN</th>\n",
              "      <td>52.000000</td>\n",
              "      <td>54.000000</td>\n",
              "      <td>4.000000</td>\n",
              "      <td>999.000000</td>\n",
              "      <td>0.000000</td>\n",
              "      <td>1.100000</td>\n",
              "      <td>93.994000</td>\n",
              "      <td>-36.400000</td>\n",
              "      <td>4.864000</td>\n",
              "      <td>5191.000000</td>\n",
              "      <td>0.000000</td>\n",
              "    </tr>\n",
              "    <tr>\n",
              "      <th>admin.</th>\n",
              "      <td>38.187620</td>\n",
              "      <td>254.238676</td>\n",
              "      <td>2.623704</td>\n",
              "      <td>956.038100</td>\n",
              "      <td>0.189060</td>\n",
              "      <td>0.015355</td>\n",
              "      <td>93.533965</td>\n",
              "      <td>-40.246171</td>\n",
              "      <td>3.550023</td>\n",
              "      <td>5164.120192</td>\n",
              "      <td>0.129750</td>\n",
              "    </tr>\n",
              "    <tr>\n",
              "      <th>blue-collar</th>\n",
              "      <td>39.554199</td>\n",
              "      <td>264.570410</td>\n",
              "      <td>2.557981</td>\n",
              "      <td>987.104182</td>\n",
              "      <td>0.122447</td>\n",
              "      <td>0.249216</td>\n",
              "      <td>93.656738</td>\n",
              "      <td>-41.375294</td>\n",
              "      <td>3.772265</td>\n",
              "      <td>5175.623419</td>\n",
              "      <td>0.068951</td>\n",
              "    </tr>\n",
              "    <tr>\n",
              "      <th>entrepreneur</th>\n",
              "      <td>41.723214</td>\n",
              "      <td>263.267857</td>\n",
              "      <td>2.535714</td>\n",
              "      <td>987.448489</td>\n",
              "      <td>0.138736</td>\n",
              "      <td>0.158723</td>\n",
              "      <td>93.605372</td>\n",
              "      <td>-41.283654</td>\n",
              "      <td>3.791120</td>\n",
              "      <td>5176.313530</td>\n",
              "      <td>0.085165</td>\n",
              "    </tr>\n",
              "    <tr>\n",
              "      <th>housemaid</th>\n",
              "      <td>45.508971</td>\n",
              "      <td>250.611898</td>\n",
              "      <td>2.641171</td>\n",
              "      <td>960.542965</td>\n",
              "      <td>0.137866</td>\n",
              "      <td>0.433900</td>\n",
              "      <td>93.677026</td>\n",
              "      <td>-39.492918</td>\n",
              "      <td>4.009510</td>\n",
              "      <td>5179.514259</td>\n",
              "      <td>0.100094</td>\n",
              "    </tr>\n",
              "    <tr>\n",
              "      <th>management</th>\n",
              "      <td>42.362299</td>\n",
              "      <td>256.726993</td>\n",
              "      <td>2.476223</td>\n",
              "      <td>962.634622</td>\n",
              "      <td>0.185084</td>\n",
              "      <td>-0.011700</td>\n",
              "      <td>93.523208</td>\n",
              "      <td>-40.492576</td>\n",
              "      <td>3.612249</td>\n",
              "      <td>5166.681457</td>\n",
              "      <td>0.112213</td>\n",
              "    </tr>\n",
              "    <tr>\n",
              "      <th>retired</th>\n",
              "      <td>62.013978</td>\n",
              "      <td>273.238206</td>\n",
              "      <td>2.478160</td>\n",
              "      <td>898.337798</td>\n",
              "      <td>0.326150</td>\n",
              "      <td>-0.696797</td>\n",
              "      <td>93.431289</td>\n",
              "      <td>-38.575422</td>\n",
              "      <td>2.771453</td>\n",
              "      <td>5122.322248</td>\n",
              "      <td>0.252184</td>\n",
              "    </tr>\n",
              "    <tr>\n",
              "      <th>self-employed</th>\n",
              "      <td>39.947220</td>\n",
              "      <td>264.142153</td>\n",
              "      <td>2.660802</td>\n",
              "      <td>976.621393</td>\n",
              "      <td>0.143561</td>\n",
              "      <td>0.094159</td>\n",
              "      <td>93.559982</td>\n",
              "      <td>-40.488107</td>\n",
              "      <td>3.689376</td>\n",
              "      <td>5170.674384</td>\n",
              "      <td>0.104856</td>\n",
              "    </tr>\n",
              "    <tr>\n",
              "      <th>services</th>\n",
              "      <td>37.927131</td>\n",
              "      <td>258.413263</td>\n",
              "      <td>2.588250</td>\n",
              "      <td>979.959657</td>\n",
              "      <td>0.155068</td>\n",
              "      <td>0.174584</td>\n",
              "      <td>93.634268</td>\n",
              "      <td>-41.292385</td>\n",
              "      <td>3.698284</td>\n",
              "      <td>5171.576097</td>\n",
              "      <td>0.081442</td>\n",
              "    </tr>\n",
              "    <tr>\n",
              "      <th>student</th>\n",
              "      <td>25.898053</td>\n",
              "      <td>282.870561</td>\n",
              "      <td>2.105384</td>\n",
              "      <td>840.983963</td>\n",
              "      <td>0.524628</td>\n",
              "      <td>-1.407216</td>\n",
              "      <td>93.329977</td>\n",
              "      <td>-40.187629</td>\n",
              "      <td>1.886817</td>\n",
              "      <td>5086.135624</td>\n",
              "      <td>0.312715</td>\n",
              "    </tr>\n",
              "    <tr>\n",
              "      <th>technician</th>\n",
              "      <td>38.507120</td>\n",
              "      <td>250.145654</td>\n",
              "      <td>2.576387</td>\n",
              "      <td>964.402996</td>\n",
              "      <td>0.153812</td>\n",
              "      <td>0.274444</td>\n",
              "      <td>93.561407</td>\n",
              "      <td>-39.928093</td>\n",
              "      <td>3.820247</td>\n",
              "      <td>5175.646114</td>\n",
              "      <td>0.108276</td>\n",
              "    </tr>\n",
              "    <tr>\n",
              "      <th>unemployed</th>\n",
              "      <td>39.738659</td>\n",
              "      <td>249.451677</td>\n",
              "      <td>2.564103</td>\n",
              "      <td>935.316568</td>\n",
              "      <td>0.199211</td>\n",
              "      <td>-0.111736</td>\n",
              "      <td>93.563781</td>\n",
              "      <td>-40.007594</td>\n",
              "      <td>3.466583</td>\n",
              "      <td>5157.156509</td>\n",
              "      <td>0.142012</td>\n",
              "    </tr>\n",
              "    <tr>\n",
              "      <th>unknown</th>\n",
              "      <td>45.544073</td>\n",
              "      <td>240.240122</td>\n",
              "      <td>2.644377</td>\n",
              "      <td>938.544073</td>\n",
              "      <td>0.155015</td>\n",
              "      <td>0.355623</td>\n",
              "      <td>93.718106</td>\n",
              "      <td>-38.805167</td>\n",
              "      <td>3.946252</td>\n",
              "      <td>5172.876900</td>\n",
              "      <td>0.112462</td>\n",
              "    </tr>\n",
              "  </tbody>\n",
              "</table>\n",
              "</div>"
            ],
            "text/plain": [
              "                     age     duration  ...  nr_employed         y\n",
              "job                                    ...                       \n",
              "ADMIN.         35.000000   637.000000  ...  5191.000000  0.000000\n",
              "BLUE-COLLAR    47.000000     5.000000  ...  5099.100000  0.000000\n",
              "HOUSEMAID      36.000000    84.000000  ...  5195.800000  0.000000\n",
              "MANAGEMENT     36.000000  1225.000000  ...  5076.200000  0.000000\n",
              "RETIRED        69.666667   545.000000  ...  5087.866667  0.333333\n",
              "SERVICES       37.333333   238.333333  ...  5203.366667  0.000000\n",
              "STUDENT        24.500000   638.500000  ...  5000.150000  1.000000\n",
              "TECHNICIAN     37.000000   834.000000  ...  5191.000000  0.000000\n",
              "UNKNOWN        52.000000    54.000000  ...  5191.000000  0.000000\n",
              "admin.         38.187620   254.238676  ...  5164.120192  0.129750\n",
              "blue-collar    39.554199   264.570410  ...  5175.623419  0.068951\n",
              "entrepreneur   41.723214   263.267857  ...  5176.313530  0.085165\n",
              "housemaid      45.508971   250.611898  ...  5179.514259  0.100094\n",
              "management     42.362299   256.726993  ...  5166.681457  0.112213\n",
              "retired        62.013978   273.238206  ...  5122.322248  0.252184\n",
              "self-employed  39.947220   264.142153  ...  5170.674384  0.104856\n",
              "services       37.927131   258.413263  ...  5171.576097  0.081442\n",
              "student        25.898053   282.870561  ...  5086.135624  0.312715\n",
              "technician     38.507120   250.145654  ...  5175.646114  0.108276\n",
              "unemployed     39.738659   249.451677  ...  5157.156509  0.142012\n",
              "unknown        45.544073   240.240122  ...  5172.876900  0.112462\n",
              "\n",
              "[21 rows x 11 columns]"
            ]
          },
          "metadata": {
            "tags": []
          },
          "execution_count": 16
        }
      ]
    },
    {
      "cell_type": "code",
      "metadata": {
        "colab": {
          "base_uri": "https://localhost:8080/",
          "height": 310
        },
        "id": "YG731JEU0Ltx",
        "outputId": "5c6d7f4a-9b63-4b81-985f-6b423aa736ce"
      },
      "source": [
        "Data.groupby('marital').mean()"
      ],
      "execution_count": null,
      "outputs": [
        {
          "output_type": "execute_result",
          "data": {
            "text/html": [
              "<div>\n",
              "<style scoped>\n",
              "    .dataframe tbody tr th:only-of-type {\n",
              "        vertical-align: middle;\n",
              "    }\n",
              "\n",
              "    .dataframe tbody tr th {\n",
              "        vertical-align: top;\n",
              "    }\n",
              "\n",
              "    .dataframe thead th {\n",
              "        text-align: right;\n",
              "    }\n",
              "</style>\n",
              "<table border=\"1\" class=\"dataframe\">\n",
              "  <thead>\n",
              "    <tr style=\"text-align: right;\">\n",
              "      <th></th>\n",
              "      <th>age</th>\n",
              "      <th>duration</th>\n",
              "      <th>campaign</th>\n",
              "      <th>pdays</th>\n",
              "      <th>previous</th>\n",
              "      <th>emp_var_rate</th>\n",
              "      <th>cons_price_idx</th>\n",
              "      <th>cons_conf_idx</th>\n",
              "      <th>euribor3m</th>\n",
              "      <th>nr_employed</th>\n",
              "      <th>y</th>\n",
              "    </tr>\n",
              "    <tr>\n",
              "      <th>marital</th>\n",
              "      <th></th>\n",
              "      <th></th>\n",
              "      <th></th>\n",
              "      <th></th>\n",
              "      <th></th>\n",
              "      <th></th>\n",
              "      <th></th>\n",
              "      <th></th>\n",
              "      <th></th>\n",
              "      <th></th>\n",
              "      <th></th>\n",
              "    </tr>\n",
              "  </thead>\n",
              "  <tbody>\n",
              "    <tr>\n",
              "      <th>D</th>\n",
              "      <td>39.000000</td>\n",
              "      <td>87.500000</td>\n",
              "      <td>1.250000</td>\n",
              "      <td>999.000000</td>\n",
              "      <td>0.000000</td>\n",
              "      <td>1.250000</td>\n",
              "      <td>93.974250</td>\n",
              "      <td>-37.675000</td>\n",
              "      <td>4.909750</td>\n",
              "      <td>5209.550000</td>\n",
              "      <td>0.000000</td>\n",
              "    </tr>\n",
              "    <tr>\n",
              "      <th>M</th>\n",
              "      <td>41.400000</td>\n",
              "      <td>418.400000</td>\n",
              "      <td>2.600000</td>\n",
              "      <td>999.000000</td>\n",
              "      <td>0.200000</td>\n",
              "      <td>-0.960000</td>\n",
              "      <td>92.931400</td>\n",
              "      <td>-37.560000</td>\n",
              "      <td>2.589200</td>\n",
              "      <td>5141.540000</td>\n",
              "      <td>0.000000</td>\n",
              "    </tr>\n",
              "    <tr>\n",
              "      <th>S</th>\n",
              "      <td>28.666667</td>\n",
              "      <td>283.333333</td>\n",
              "      <td>2.000000</td>\n",
              "      <td>999.000000</td>\n",
              "      <td>0.000000</td>\n",
              "      <td>-0.233333</td>\n",
              "      <td>93.396333</td>\n",
              "      <td>-34.733333</td>\n",
              "      <td>3.531333</td>\n",
              "      <td>5152.733333</td>\n",
              "      <td>0.000000</td>\n",
              "    </tr>\n",
              "    <tr>\n",
              "      <th>divorced</th>\n",
              "      <td>44.904080</td>\n",
              "      <td>253.934679</td>\n",
              "      <td>2.614583</td>\n",
              "      <td>968.613498</td>\n",
              "      <td>0.168837</td>\n",
              "      <td>0.163043</td>\n",
              "      <td>93.606244</td>\n",
              "      <td>-40.709701</td>\n",
              "      <td>3.714567</td>\n",
              "      <td>5170.845074</td>\n",
              "      <td>0.103299</td>\n",
              "    </tr>\n",
              "    <tr>\n",
              "      <th>married</th>\n",
              "      <td>42.306986</td>\n",
              "      <td>257.406332</td>\n",
              "      <td>2.572804</td>\n",
              "      <td>967.963528</td>\n",
              "      <td>0.155599</td>\n",
              "      <td>0.183854</td>\n",
              "      <td>93.597501</td>\n",
              "      <td>-40.271203</td>\n",
              "      <td>3.746064</td>\n",
              "      <td>5171.854853</td>\n",
              "      <td>0.101593</td>\n",
              "    </tr>\n",
              "    <tr>\n",
              "      <th>single</th>\n",
              "      <td>33.159101</td>\n",
              "      <td>261.518720</td>\n",
              "      <td>2.533939</td>\n",
              "      <td>952.231474</td>\n",
              "      <td>0.211414</td>\n",
              "      <td>-0.167972</td>\n",
              "      <td>93.517331</td>\n",
              "      <td>-40.920303</td>\n",
              "      <td>3.317391</td>\n",
              "      <td>5155.199905</td>\n",
              "      <td>0.140078</td>\n",
              "    </tr>\n",
              "    <tr>\n",
              "      <th>unknown</th>\n",
              "      <td>40.275000</td>\n",
              "      <td>312.725000</td>\n",
              "      <td>3.187500</td>\n",
              "      <td>937.100000</td>\n",
              "      <td>0.275000</td>\n",
              "      <td>-0.221250</td>\n",
              "      <td>93.471250</td>\n",
              "      <td>-40.820000</td>\n",
              "      <td>3.313038</td>\n",
              "      <td>5157.393750</td>\n",
              "      <td>0.150000</td>\n",
              "    </tr>\n",
              "  </tbody>\n",
              "</table>\n",
              "</div>"
            ],
            "text/plain": [
              "                age    duration  campaign  ...  euribor3m  nr_employed         y\n",
              "marital                                    ...                                  \n",
              "D         39.000000   87.500000  1.250000  ...   4.909750  5209.550000  0.000000\n",
              "M         41.400000  418.400000  2.600000  ...   2.589200  5141.540000  0.000000\n",
              "S         28.666667  283.333333  2.000000  ...   3.531333  5152.733333  0.000000\n",
              "divorced  44.904080  253.934679  2.614583  ...   3.714567  5170.845074  0.103299\n",
              "married   42.306986  257.406332  2.572804  ...   3.746064  5171.854853  0.101593\n",
              "single    33.159101  261.518720  2.533939  ...   3.317391  5155.199905  0.140078\n",
              "unknown   40.275000  312.725000  3.187500  ...   3.313038  5157.393750  0.150000\n",
              "\n",
              "[7 rows x 11 columns]"
            ]
          },
          "metadata": {
            "tags": []
          },
          "execution_count": 17
        }
      ]
    },
    {
      "cell_type": "code",
      "metadata": {
        "colab": {
          "base_uri": "https://localhost:8080/",
          "height": 371
        },
        "id": "LWdhy6xt0Rwq",
        "outputId": "34d71809-9fa9-40cd-bd2d-4524ddb646f5"
      },
      "source": [
        "Data.groupby('education').mean()"
      ],
      "execution_count": null,
      "outputs": [
        {
          "output_type": "execute_result",
          "data": {
            "text/html": [
              "<div>\n",
              "<style scoped>\n",
              "    .dataframe tbody tr th:only-of-type {\n",
              "        vertical-align: middle;\n",
              "    }\n",
              "\n",
              "    .dataframe tbody tr th {\n",
              "        vertical-align: top;\n",
              "    }\n",
              "\n",
              "    .dataframe thead th {\n",
              "        text-align: right;\n",
              "    }\n",
              "</style>\n",
              "<table border=\"1\" class=\"dataframe\">\n",
              "  <thead>\n",
              "    <tr style=\"text-align: right;\">\n",
              "      <th></th>\n",
              "      <th>age</th>\n",
              "      <th>duration</th>\n",
              "      <th>campaign</th>\n",
              "      <th>pdays</th>\n",
              "      <th>previous</th>\n",
              "      <th>emp_var_rate</th>\n",
              "      <th>cons_price_idx</th>\n",
              "      <th>cons_conf_idx</th>\n",
              "      <th>euribor3m</th>\n",
              "      <th>nr_employed</th>\n",
              "      <th>y</th>\n",
              "    </tr>\n",
              "    <tr>\n",
              "      <th>education</th>\n",
              "      <th></th>\n",
              "      <th></th>\n",
              "      <th></th>\n",
              "      <th></th>\n",
              "      <th></th>\n",
              "      <th></th>\n",
              "      <th></th>\n",
              "      <th></th>\n",
              "      <th></th>\n",
              "      <th></th>\n",
              "      <th></th>\n",
              "    </tr>\n",
              "  </thead>\n",
              "  <tbody>\n",
              "    <tr>\n",
              "      <th>Basic</th>\n",
              "      <td>42.156828</td>\n",
              "      <td>263.161153</td>\n",
              "      <td>2.558670</td>\n",
              "      <td>976.345455</td>\n",
              "      <td>0.140969</td>\n",
              "      <td>0.191013</td>\n",
              "      <td>93.639686</td>\n",
              "      <td>-40.925871</td>\n",
              "      <td>3.729493</td>\n",
              "      <td>5172.016428</td>\n",
              "      <td>0.087145</td>\n",
              "    </tr>\n",
              "    <tr>\n",
              "      <th>basic-4y</th>\n",
              "      <td>48.916667</td>\n",
              "      <td>259.750000</td>\n",
              "      <td>4.250000</td>\n",
              "      <td>915.916667</td>\n",
              "      <td>0.250000</td>\n",
              "      <td>0.166667</td>\n",
              "      <td>93.747500</td>\n",
              "      <td>-42.225000</td>\n",
              "      <td>3.615083</td>\n",
              "      <td>5167.266667</td>\n",
              "      <td>0.083333</td>\n",
              "    </tr>\n",
              "    <tr>\n",
              "      <th>basic-6y</th>\n",
              "      <td>39.833333</td>\n",
              "      <td>222.500000</td>\n",
              "      <td>2.500000</td>\n",
              "      <td>999.000000</td>\n",
              "      <td>0.000000</td>\n",
              "      <td>0.766667</td>\n",
              "      <td>93.784667</td>\n",
              "      <td>-39.933333</td>\n",
              "      <td>4.313333</td>\n",
              "      <td>5194.233333</td>\n",
              "      <td>0.000000</td>\n",
              "    </tr>\n",
              "    <tr>\n",
              "      <th>basic-9y</th>\n",
              "      <td>44.400000</td>\n",
              "      <td>144.900000</td>\n",
              "      <td>1.600000</td>\n",
              "      <td>999.000000</td>\n",
              "      <td>0.200000</td>\n",
              "      <td>0.270000</td>\n",
              "      <td>93.732300</td>\n",
              "      <td>-42.120000</td>\n",
              "      <td>3.716900</td>\n",
              "      <td>5161.490000</td>\n",
              "      <td>0.000000</td>\n",
              "    </tr>\n",
              "    <tr>\n",
              "      <th>high.school</th>\n",
              "      <td>37.998003</td>\n",
              "      <td>260.886810</td>\n",
              "      <td>2.568576</td>\n",
              "      <td>964.358382</td>\n",
              "      <td>0.185917</td>\n",
              "      <td>0.032937</td>\n",
              "      <td>93.584857</td>\n",
              "      <td>-40.940641</td>\n",
              "      <td>3.556157</td>\n",
              "      <td>5164.994735</td>\n",
              "      <td>0.108355</td>\n",
              "    </tr>\n",
              "    <tr>\n",
              "      <th>illiterate</th>\n",
              "      <td>48.500000</td>\n",
              "      <td>276.777778</td>\n",
              "      <td>2.277778</td>\n",
              "      <td>943.833333</td>\n",
              "      <td>0.111111</td>\n",
              "      <td>-0.133333</td>\n",
              "      <td>93.317333</td>\n",
              "      <td>-39.950000</td>\n",
              "      <td>3.516556</td>\n",
              "      <td>5171.777778</td>\n",
              "      <td>0.222222</td>\n",
              "    </tr>\n",
              "    <tr>\n",
              "      <th>professional.course</th>\n",
              "      <td>40.079725</td>\n",
              "      <td>252.533855</td>\n",
              "      <td>2.586115</td>\n",
              "      <td>962.482548</td>\n",
              "      <td>0.163075</td>\n",
              "      <td>0.173012</td>\n",
              "      <td>93.569864</td>\n",
              "      <td>-40.124108</td>\n",
              "      <td>3.710457</td>\n",
              "      <td>5170.155979</td>\n",
              "      <td>0.113485</td>\n",
              "    </tr>\n",
              "    <tr>\n",
              "      <th>university.degree</th>\n",
              "      <td>38.877794</td>\n",
              "      <td>253.223373</td>\n",
              "      <td>2.563527</td>\n",
              "      <td>953.286982</td>\n",
              "      <td>0.192390</td>\n",
              "      <td>-0.028090</td>\n",
              "      <td>93.493466</td>\n",
              "      <td>-39.975805</td>\n",
              "      <td>3.529663</td>\n",
              "      <td>5163.226298</td>\n",
              "      <td>0.137245</td>\n",
              "    </tr>\n",
              "    <tr>\n",
              "      <th>unknown</th>\n",
              "      <td>43.481225</td>\n",
              "      <td>262.390526</td>\n",
              "      <td>2.596187</td>\n",
              "      <td>942.830734</td>\n",
              "      <td>0.226459</td>\n",
              "      <td>0.059099</td>\n",
              "      <td>93.658615</td>\n",
              "      <td>-39.877816</td>\n",
              "      <td>3.571098</td>\n",
              "      <td>5159.549509</td>\n",
              "      <td>0.145003</td>\n",
              "    </tr>\n",
              "  </tbody>\n",
              "</table>\n",
              "</div>"
            ],
            "text/plain": [
              "                           age    duration  ...  nr_employed         y\n",
              "education                                   ...                       \n",
              "Basic                42.156828  263.161153  ...  5172.016428  0.087145\n",
              "basic-4y             48.916667  259.750000  ...  5167.266667  0.083333\n",
              "basic-6y             39.833333  222.500000  ...  5194.233333  0.000000\n",
              "basic-9y             44.400000  144.900000  ...  5161.490000  0.000000\n",
              "high.school          37.998003  260.886810  ...  5164.994735  0.108355\n",
              "illiterate           48.500000  276.777778  ...  5171.777778  0.222222\n",
              "professional.course  40.079725  252.533855  ...  5170.155979  0.113485\n",
              "university.degree    38.877794  253.223373  ...  5163.226298  0.137245\n",
              "unknown              43.481225  262.390526  ...  5159.549509  0.145003\n",
              "\n",
              "[9 rows x 11 columns]"
            ]
          },
          "metadata": {
            "tags": []
          },
          "execution_count": 18
        }
      ]
    },
    {
      "cell_type": "code",
      "metadata": {
        "colab": {
          "base_uri": "https://localhost:8080/",
          "height": 370
        },
        "id": "xCYf9mg00jF_",
        "outputId": "3827a51f-73cb-4827-9817-54bcbd8873b3"
      },
      "source": [
        "%matplotlib inline\n",
        "pd.crosstab(Data.job,Data.y).plot(kind='bar')\n",
        "plt.title('Purchase Frequency for Job Title')\n",
        "plt.xlabel('Job')\n",
        "plt.ylabel('Frequency of Purchase')\n",
        "plt.savefig('purchase_fre_job')"
      ],
      "execution_count": null,
      "outputs": [
        {
          "output_type": "display_data",
          "data": {
            "image/png": "[encoded data removed]",
            "text/plain": [
              "<Figure size 432x288 with 1 Axes>"
            ]
          },
          "metadata": {
            "tags": [],
            "needs_background": "light"
          }
        }
      ]
    },
    {
      "cell_type": "markdown",
      "metadata": {
        "id": "xnd2lJHa8ivh"
      },
      "source": [
        "the job title is important as you can see on the graph above the frequency of purchase depends on the job title"
      ]
    },
    {
      "cell_type": "code",
      "metadata": {
        "colab": {
          "base_uri": "https://localhost:8080/",
          "height": 341
        },
        "id": "Ht8VZK9s0rMv",
        "outputId": "44e9a583-17bf-4a13-f809-c82113a42536"
      },
      "source": [
        "table=pd.crosstab(Data.marital,Data.y)\n",
        "table.div(table.sum(1).astype(float), axis=0).plot(kind='bar', stacked=True)\n",
        "plt.title('Stacked Bar Chart of Marital Status vs Purchase')\n",
        "plt.xlabel('Marital Status')\n",
        "plt.ylabel('Proportion of Customers')\n",
        "plt.savefig('mariral_vs_pur_stack')"
      ],
      "execution_count": null,
      "outputs": [
        {
          "output_type": "display_data",
          "data": {
            "image/png": "[encoded data removed]",
            "text/plain": [
              "<Figure size 432x288 with 1 Axes>"
            ]
          },
          "metadata": {
            "tags": [],
            "needs_background": "light"
          }
        }
      ]
    },
    {
      "cell_type": "code",
      "metadata": {
        "colab": {
          "base_uri": "https://localhost:8080/",
          "height": 398
        },
        "id": "XUpvZLqD04tj",
        "outputId": "e0f2990f-9165-44aa-973d-877756286972"
      },
      "source": [
        "table=pd.crosstab(Data.education,Data.y)\n",
        "table.div(table.sum(1).astype(float), axis=0).plot(kind='bar', stacked=True)\n",
        "plt.title('Stacked Bar Chart of Education vs Purchase')\n",
        "plt.xlabel('Education')\n",
        "plt.ylabel('Proportion of Customers')\n",
        "plt.savefig('edu_vs_pur_stack')"
      ],
      "execution_count": null,
      "outputs": [
        {
          "output_type": "display_data",
          "data": {
            "image/png": "[encoded data removed]",
            "text/plain": [
              "<Figure size 432x288 with 1 Axes>"
            ]
          },
          "metadata": {
            "tags": [],
            "needs_background": "light"
          }
        }
      ]
    },
    {
      "cell_type": "code",
      "metadata": {
        "colab": {
          "base_uri": "https://localhost:8080/",
          "height": 315
        },
        "id": "K_L0rEYR1N02",
        "outputId": "14385b53-9713-48d1-905f-e8d4aa0afb2c"
      },
      "source": [
        "pd.crosstab(Data.day_of_week,Data.y).plot(kind='bar')\n",
        "plt.title('Purchase Frequency for Day of Week')\n",
        "plt.xlabel('Day of Week')\n",
        "plt.ylabel('Frequency of Purchase')\n",
        "plt.savefig('pur_dayofweek_bar')"
      ],
      "execution_count": null,
      "outputs": [
        {
          "output_type": "display_data",
          "data": {
            "image/png": "[encoded data removed]",
            "text/plain": [
              "<Figure size 432x288 with 1 Axes>"
            ]
          },
          "metadata": {
            "tags": [],
            "needs_background": "light"
          }
        }
      ]
    },
    {
      "cell_type": "code",
      "metadata": {
        "colab": {
          "base_uri": "https://localhost:8080/",
          "height": 315
        },
        "id": "fXhAa7n91bgK",
        "outputId": "76aa9e98-7e6f-46d4-ba84-a0fb74e05dae"
      },
      "source": [
        "pd.crosstab(Data.month,Data.y).plot(kind='bar')# can be useful to pradict outcome variable\n",
        "plt.title('Purchase Frequency for Month')\n",
        "plt.xlabel('Month')\n",
        "plt.ylabel('Frequency of Purchase')\n",
        "plt.savefig('pur_fre_month_bar')"
      ],
      "execution_count": null,
      "outputs": [
        {
          "output_type": "display_data",
          "data": {
            "image/png": "[encoded data removed]",
            "text/plain": [
              "<Figure size 432x288 with 1 Axes>"
            ]
          },
          "metadata": {
            "tags": [],
            "needs_background": "light"
          }
        }
      ]
    },
    {
      "cell_type": "code",
      "metadata": {
        "colab": {
          "base_uri": "https://localhost:8080/"
        },
        "id": "8I9nPD-ubIBQ",
        "outputId": "3446412d-121e-4ae1-ae35-ecc4ccc19638"
      },
      "source": [
        "Data['age'].unique() # cleaning data manualy for non numerical values\n"
      ],
      "execution_count": null,
      "outputs": [
        {
          "output_type": "execute_result",
          "data": {
            "text/plain": [
              "array(['44', '53', '28', '39', '55', '30', '37', '36', '27', '34', '41',\n",
              "       '33', '26', '52', '35', '40', '32', '49', '38', '47', '46', '29',\n",
              "       '54', '42', '72', '48', '43', '56', '31', '24', '68', '59', '50',\n",
              "       '45', '25', '57', '63', '58', '60', '64', '51', '23', '20', '74',\n",
              "       '80', '61', '62', '75', '21', '82', '77', '70', '76', '73', '66',\n",
              "       '22', '71', '19', '79', '88', '65', '67', '81', '18', '84', '69',\n",
              "       '98', '85', '83', '78', '92', '86', '94', '17', '91', '89', '87',\n",
              "       '95'], dtype=object)"
            ]
          },
          "metadata": {
            "tags": []
          },
          "execution_count": 36
        }
      ]
    },
    {
      "cell_type": "code",
      "metadata": {
        "id": "eFP_oFKu9I1p"
      },
      "source": [
        "#grouping to reduce noises\n",
        "Data['age']=np.where(Data['age'] =='18-25', '20', Data['age'])\n",
        "Data['age']=np.where(Data['age'] =='35-30', '32', Data['age'])\n",
        "Data['age']=np.where(Data['age'] =='30-32', '31', Data['age'])\n",
        "Data['age']=np.where(Data['age'] =='50-55', '52', Data['age'])\n",
        "Data['age']=np.where(Data['age'] =='45-50', '47', Data['age'])\n",
        "Data['age']=np.where(Data['age'] =='20-25', '23', Data['age'])\n",
        "Data['age']=np.where(Data['age'] =='35-40', '37', Data['age'])\n",
        "Data['age']=np.where(Data['age'] =='20-40', '30', Data['age'])\n",
        "Data['age']=np.where(Data['age'] =='30-35', '33', Data['age'])\n",
        "Data['age']=np.where(Data['age'] =='25-30', '27', Data['age'])\n",
        "Data['age']=np.where(Data['age'] =='30-40', '35', Data['age'])\n"
      ],
      "execution_count": null,
      "outputs": []
    },
    {
      "cell_type": "code",
      "metadata": {
        "id": "M-NwqinH_gh4"
      },
      "source": [
        "Data['age1'] = pd.to_numeric(Data['age'])"
      ],
      "execution_count": null,
      "outputs": []
    },
    {
      "cell_type": "code",
      "metadata": {
        "colab": {
          "base_uri": "https://localhost:8080/"
        },
        "id": "ZqNU8vE29DXm",
        "outputId": "e0c8d822-bdb4-477d-a4ca-249abbafbfa5"
      },
      "source": [
        "Data['age1'].describe()"
      ],
      "execution_count": null,
      "outputs": [
        {
          "output_type": "execute_result",
          "data": {
            "text/plain": [
              "count    41188.000000\n",
              "mean        40.023575\n",
              "std         10.421444\n",
              "min         17.000000\n",
              "25%         32.000000\n",
              "50%         38.000000\n",
              "75%         47.000000\n",
              "max         98.000000\n",
              "Name: age1, dtype: float64"
            ]
          },
          "metadata": {
            "tags": []
          },
          "execution_count": 34
        }
      ]
    },
    {
      "cell_type": "code",
      "metadata": {
        "colab": {
          "base_uri": "https://localhost:8080/",
          "height": 301
        },
        "id": "Ly1p5Yn_1i67",
        "outputId": "14cb3e89-845d-4b0d-9531-64d95d7dd273"
      },
      "source": [
        "# the majority of the population is between the age of 30-40\n",
        "Data.age1.hist()\n",
        "plt.title('Histogram of Age')\n",
        "plt.xlabel('Age')\n",
        "plt.ylabel('Frequency')\n",
        "plt.savefig('hist_age')\n"
      ],
      "execution_count": null,
      "outputs": [
        {
          "output_type": "display_data",
          "data": {
            "image/png": "[encoded data removed]",
            "text/plain": [
              "<Figure size 432x288 with 1 Axes>"
            ]
          },
          "metadata": {
            "tags": [],
            "needs_background": "light"
          }
        }
      ]
    },
    {
      "cell_type": "code",
      "metadata": {
        "colab": {
          "base_uri": "https://localhost:8080/",
          "height": 356
        },
        "id": "pSe2SFKp2JJW",
        "outputId": "3edebbdd-03a8-4ccb-f684-0bd75c2d740a"
      },
      "source": [
        "pd.crosstab(Data.poutcome,Data.y).plot(kind='bar')\n",
        "plt.title('Purchase Frequency for Poutcome')\n",
        "plt.xlabel('Poutcome')\n",
        "plt.ylabel('Frequency of Purchase')\n",
        "plt.savefig('pur_fre_pout_bar') # strong relation with the outcome variable"
      ],
      "execution_count": null,
      "outputs": [
        {
          "output_type": "display_data",
          "data": {
            "image/png": "[encoded data removed]",
            "text/plain": [
              "<Figure size 432x288 with 1 Axes>"
            ]
          },
          "metadata": {
            "tags": [],
            "needs_background": "light"
          }
        }
      ]
    },
    {
      "cell_type": "markdown",
      "metadata": {
        "id": "KaIZNgHn9hSj"
      },
      "source": [
        "Start creating Dummies"
      ]
    },
    {
      "cell_type": "code",
      "metadata": {
        "id": "6wAMiXB-Cx4b"
      },
      "source": [
        "cat_vars=['job','marital','education','default','housing','loan','contact','month','day_of_week','poutcome']\n",
        "for var in cat_vars:\n",
        "    cat_list='var'+'_'+var\n",
        "    cat_list = pd.get_dummies(Data[var], prefix=var)\n",
        "    data1=Data.join(cat_list)\n",
        "    Data=data1\n",
        "cat_vars=['job','marital','education','default','housing','loan','contact','month','day_of_week','poutcome']\n",
        "data_vars=Data.columns.values.tolist()\n",
        "to_keep=[i for i in data_vars if i not in cat_vars]"
      ],
      "execution_count": null,
      "outputs": []
    },
    {
      "cell_type": "code",
      "metadata": {
        "colab": {
          "base_uri": "https://localhost:8080/"
        },
        "id": "VNt-dWvtC9I5",
        "outputId": "722f8396-c54d-4626-c9b6-d11fffdaa5d0"
      },
      "source": [
        "data_final=Data[to_keep]\n",
        "data_final.columns.values # final data "
      ],
      "execution_count": null,
      "outputs": [
        {
          "output_type": "execute_result",
          "data": {
            "text/plain": [
              "array(['age', 'duration', 'campaign', 'pdays', 'previous', 'emp_var_rate',\n",
              "       'cons_price_idx', 'cons_conf_idx', 'euribor3m', 'nr_employed', 'y',\n",
              "       'job_ADMIN.', 'job_BLUE-COLLAR', 'job_HOUSEMAID', 'job_MANAGEMENT',\n",
              "       'job_RETIRED', 'job_SERVICES', 'job_STUDENT', 'job_TECHNICIAN',\n",
              "       'job_UNKNOWN', 'job_admin.', 'job_blue-collar', 'job_entrepreneur',\n",
              "       'job_housemaid', 'job_management', 'job_retired',\n",
              "       'job_self-employed', 'job_services', 'job_student',\n",
              "       'job_technician', 'job_unemployed', 'job_unknown', 'marital_D',\n",
              "       'marital_M', 'marital_S', 'marital_divorced', 'marital_married',\n",
              "       'marital_single', 'marital_unknown', 'education_basic-4y',\n",
              "       'education_basic-6y', 'education_basic-9y', 'education_basic.4y',\n",
              "       'education_basic.6y', 'education_basic.9y',\n",
              "       'education_high.school', 'education_illiterate',\n",
              "       'education_professional.course', 'education_university.degree',\n",
              "       'education_unknown', 'default_no', 'default_unknown',\n",
              "       'default_yes', 'housing_no', 'housing_unknown', 'housing_yes',\n",
              "       'loan_no', 'loan_unknown', 'loan_yes', 'contact_cellular',\n",
              "       'contact_telephone', 'month_apr', 'month_aug', 'month_dec',\n",
              "       'month_jul', 'month_jun', 'month_mar', 'month_may', 'month_nov',\n",
              "       'month_oct', 'month_sep', 'day_of_week_fri', 'day_of_week_mon',\n",
              "       'day_of_week_thu', 'day_of_week_tue', 'day_of_week_wed',\n",
              "       'poutcome_failure', 'poutcome_nonexistent', 'poutcome_success'],\n",
              "      dtype=object)"
            ]
          },
          "metadata": {
            "tags": []
          },
          "execution_count": 41
        }
      ]
    },
    {
      "cell_type": "markdown",
      "metadata": {
        "id": "tmE2VMco9vEJ"
      },
      "source": [
        "The smote algorithm"
      ]
    },
    {
      "cell_type": "code",
      "metadata": {
        "colab": {
          "base_uri": "https://localhost:8080/"
        },
        "id": "k4w22tQ_D-Q4",
        "outputId": "07abc6f9-bd76-4156-8b7f-fe412e9dd1f1"
      },
      "source": [
        "X = data_final.loc[:, data_final.columns != 'y']\n",
        "y = data_final.loc[:, data_final.columns == 'y']\n",
        "\n",
        "from imblearn.over_sampling import SMOTE\n",
        "\n",
        "os = SMOTE(random_state=0)\n",
        "X_train, X_test, y_train, y_test = train_test_split(X, y, test_size=0.3, random_state=0)\n",
        "columns = X_train.columns\n",
        "os_data_X,os_data_y=os.fit_sample(X_train, y_train)\n",
        "os_data_X = pd.DataFrame(data=os_data_X,columns=columns )\n",
        "os_data_y= pd.DataFrame(data=os_data_y,columns=['y'])\n",
        "# we can Check the numbers of our data\n",
        "print(\"length of oversampled data is \",len(os_data_X))\n",
        "print(\"Number of no subscription in oversampled data\",len(os_data_y[os_data_y['y']==0]))\n",
        "print(\"Number of subscription\",len(os_data_y[os_data_y['y']==1]))\n",
        "print(\"Proportion of no subscription data in oversampled data is \",len(os_data_y[os_data_y['y']==0])/len(os_data_X))\n",
        "print(\"Proportion of subscription data in oversampled data is \",len(os_data_y[os_data_y['y']==1])/len(os_data_X))"
      ],
      "execution_count": null,
      "outputs": [
        {
          "output_type": "stream",
          "text": [
            "length of oversampled data is  51134\n",
            "Number of no subscription in oversampled data 25567\n",
            "Number of subscription 25567\n",
            "Proportion of no subscription data in oversampled data is  0.5\n",
            "Proportion of subscription data in oversampled data is  0.5\n"
          ],
          "name": "stdout"
        }
      ]
    },
    {
      "cell_type": "code",
      "metadata": {
        "colab": {
          "base_uri": "https://localhost:8080/"
        },
        "id": "BUf9dTObGf-5",
        "outputId": "cbb68e28-a489-4f85-c7c9-ec81b9a8444d"
      },
      "source": [
        "data_final_vars=data_final.columns.values.tolist()\n",
        "y=['y']\n",
        "X=[i for i in data_final_vars if i not in y]\n",
        "from sklearn.feature_selection import RFE\n",
        "from sklearn.linear_model import LogisticRegression\n",
        "logreg = LogisticRegression()\n",
        "rfe = RFE(logreg, 20)\n",
        "rfe = rfe.fit(os_data_X, os_data_y.values.ravel())\n",
        "print(rfe.support_)\n",
        "print(rfe.ranking_)"
      ],
      "execution_count": null,
      "outputs": [
        {
          "output_type": "stream",
          "text": [
            "[False False False False  True False False False  True False False False\n",
            " False False False False False False False  True False False  True False\n",
            "  True False False  True False False False False False False False False\n",
            " False False False False False  True False  True False False False False\n",
            " False  True False False False False False False False False False False\n",
            "  True  True False False False  True  True  True  True  True False  True\n",
            " False False  True  True False  True]\n",
            "[37 38  6 41  1 20 13 11  1 24 56 53 57 46 58 50 52 48 59  1 18 31  1 29\n",
            "  1 33 16  1  7 30 35 55 42 45 25 23  8 40 47 51 43  1 32  1 21 39 34  3\n",
            " 19  1  5 54  9 26 49 17 27 36  4  2  1  1 44 15 14  1  1  1  1  1 22  1\n",
            " 10 12  1  1 28  1]\n"
          ],
          "name": "stdout"
        }
      ]
    },
    {
      "cell_type": "markdown",
      "metadata": {
        "id": "RvFJMlZUt8vz"
      },
      "source": [
        "with the recursive feature elimination rfe we can choose the following features: 20"
      ]
    },
    {
      "cell_type": "code",
      "metadata": {
        "id": "88-ySWOSGvJQ"
      },
      "source": [
        "cols=['euribor3m', 'job_blue-collar', 'job_housemaid', 'marital_unknown', 'education_illiterate', 'default_no', 'default_unknown', \n",
        "      'contact_cellular', 'contact_telephone', 'month_apr', 'month_aug', 'month_dec', 'month_jul', 'month_jun', 'month_mar', \n",
        "      'month_may', 'month_nov', 'month_oct', \"poutcome_failure\", \"poutcome_success\"] \n",
        "X=os_data_X[cols]\n",
        "y=os_data_y['y']"
      ],
      "execution_count": null,
      "outputs": []
    },
    {
      "cell_type": "code",
      "metadata": {
        "colab": {
          "base_uri": "https://localhost:8080/"
        },
        "id": "oUPQA99xHLNf",
        "outputId": "3b57e202-e9f5-43a4-b29c-66eecd179f3a"
      },
      "source": [
        "import statsmodels.api as sm\n",
        "logit_model=sm.Logit(y,X)\n",
        "result=logit_model.fit()\n",
        "print(result.summary2())"
      ],
      "execution_count": null,
      "outputs": [
        {
          "output_type": "stream",
          "text": [
            "Warning: Maximum number of iterations has been exceeded.\n",
            "         Current function value: 0.545892\n",
            "         Iterations: 35\n",
            "                                Results: Logit\n",
            "==============================================================================\n",
            "Model:                   Logit                Pseudo R-squared:     0.212     \n",
            "Dependent Variable:      y                    AIC:                  55867.2929\n",
            "Date:                    2021-03-24 16:41     BIC:                  56044.1370\n",
            "No. Observations:        51134                Log-Likelihood:       -27914.   \n",
            "Df Model:                19                   LL-Null:              -35443.   \n",
            "Df Residuals:            51114                LLR p-value:          0.0000    \n",
            "Converged:               0.0000               Scale:                1.0000    \n",
            "No. Iterations:          35.0000                                              \n",
            "------------------------------------------------------------------------------\n",
            "                      Coef.    Std.Err.    z     P>|z|     [0.025     0.975]  \n",
            "------------------------------------------------------------------------------\n",
            "euribor3m             -0.4634    0.0091 -50.9475 0.0000     -0.4813    -0.4456\n",
            "job_blue-collar       -0.1733    0.0283  -6.1137 0.0000     -0.2289    -0.1177\n",
            "job_housemaid         -0.3259    0.0778  -4.1904 0.0000     -0.4783    -0.1735\n",
            "marital_unknown        0.7454    0.2253   3.3081 0.0009      0.3038     1.1870\n",
            "education_illiterate   1.3156    0.4373   3.0083 0.0026      0.4585     2.1727\n",
            "default_no            16.1519 5414.3137   0.0030 0.9976 -10595.7080 10628.0118\n",
            "default_unknown       15.8942 5414.3137   0.0029 0.9977 -10595.9657 10627.7541\n",
            "contact_cellular     -13.9391 5414.3137  -0.0026 0.9979 -10625.7991 10597.9208\n",
            "contact_telephone    -14.0063 5414.3137  -0.0026 0.9979 -10625.8662 10597.8536\n",
            "month_apr             -0.8356    0.0913  -9.1493 0.0000     -1.0146    -0.6566\n",
            "month_aug             -0.6882    0.0929  -7.4053 0.0000     -0.8704    -0.5061\n",
            "month_dec             -0.4233    0.1655  -2.5580 0.0105     -0.7477    -0.0990\n",
            "month_jul             -0.4057    0.0935  -4.3395 0.0000     -0.5889    -0.2225\n",
            "month_jun             -0.4818    0.0917  -5.2555 0.0000     -0.6615    -0.3021\n",
            "month_mar              0.6637    0.1229   5.3987 0.0000      0.4228     0.9047\n",
            "month_may             -1.4753    0.0874 -16.8825 0.0000     -1.6466    -1.3040\n",
            "month_nov             -0.8298    0.0942  -8.8087 0.0000     -1.0144    -0.6451\n",
            "month_oct              0.5065    0.1175   4.3109 0.0000      0.2762     0.7367\n",
            "poutcome_failure      -0.5000    0.0363 -13.7716 0.0000     -0.5712    -0.4289\n",
            "poutcome_success       1.5788    0.0618  25.5314 0.0000      1.4576     1.7000\n",
            "==============================================================================\n",
            "\n"
          ],
          "name": "stdout"
        },
        {
          "output_type": "stream",
          "text": [
            "/usr/local/lib/python3.7/dist-packages/statsmodels/base/model.py:512: ConvergenceWarning: Maximum Likelihood optimization failed to converge. Check mle_retvals\n",
            "  \"Check mle_retvals\", ConvergenceWarning)\n"
          ],
          "name": "stderr"
        }
      ]
    },
    {
      "cell_type": "markdown",
      "metadata": {
        "id": "QSsBl1xm97hR"
      },
      "source": [
        "as you can see above some P variable a diferent then the rest like outliers lets drop them : default_no - default_unknown - contact_cellular- contact_telephone."
      ]
    },
    {
      "cell_type": "code",
      "metadata": {
        "colab": {
          "base_uri": "https://localhost:8080/"
        },
        "id": "feciUI5pIVXz",
        "outputId": "8acef34f-5862-48a8-e8c4-074135f83336"
      },
      "source": [
        "cols=['euribor3m', 'job_blue-collar', 'job_housemaid', 'marital_unknown', 'education_illiterate', \n",
        "      'month_apr', 'month_aug', 'month_dec', 'month_jul', 'month_jun', 'month_mar', \n",
        "      'month_may', 'month_nov', 'month_oct', \"poutcome_failure\", \"poutcome_success\"] \n",
        "X=os_data_X[cols]\n",
        "y=os_data_y['y']\n",
        "logit_model=sm.Logit(y,X)\n",
        "result=logit_model.fit()\n",
        "print(result.summary2())"
      ],
      "execution_count": null,
      "outputs": [
        {
          "output_type": "stream",
          "text": [
            "Optimization terminated successfully.\n",
            "         Current function value: 0.555867\n",
            "         Iterations 7\n",
            "                           Results: Logit\n",
            "=====================================================================\n",
            "Model:                Logit             Pseudo R-squared:  0.198     \n",
            "Dependent Variable:   y                 AIC:               56879.4105\n",
            "Date:                 2021-03-24 16:46  BIC:               57020.8857\n",
            "No. Observations:     51134             Log-Likelihood:    -28424.   \n",
            "Df Model:             15                LL-Null:           -35443.   \n",
            "Df Residuals:         51118             LLR p-value:       0.0000    \n",
            "Converged:            1.0000            Scale:             1.0000    \n",
            "No. Iterations:       7.0000                                         \n",
            "---------------------------------------------------------------------\n",
            "                      Coef.  Std.Err.    z     P>|z|   [0.025  0.975]\n",
            "---------------------------------------------------------------------\n",
            "euribor3m            -0.4488   0.0074 -60.6845 0.0000 -0.4633 -0.4343\n",
            "job_blue-collar      -0.2057   0.0278  -7.3920 0.0000 -0.2602 -0.1511\n",
            "job_housemaid        -0.2783   0.0762  -3.6511 0.0003 -0.4278 -0.1289\n",
            "marital_unknown       0.7619   0.2244   3.3956 0.0007  0.3221  1.2017\n",
            "education_illiterate  1.3079   0.4346   3.0095 0.0026  0.4561  2.1597\n",
            "month_apr             1.2863   0.0380  33.8170 0.0000  1.2117  1.3608\n",
            "month_aug             1.3959   0.0411  33.9688 0.0000  1.3153  1.4764\n",
            "month_dec             1.8084   0.1441  12.5482 0.0000  1.5259  2.0908\n",
            "month_jul             1.6747   0.0424  39.5067 0.0000  1.5916  1.7578\n",
            "month_jun             1.5573   0.0408  38.1341 0.0000  1.4773  1.6374\n",
            "month_mar             2.8215   0.0908  31.0890 0.0000  2.6436  2.9994\n",
            "month_may             0.5847   0.0304  19.2140 0.0000  0.5251  0.6443\n",
            "month_nov             1.2725   0.0445  28.5718 0.0000  1.1852  1.3597\n",
            "month_oct             2.7279   0.0816  33.4350 0.0000  2.5680  2.8878\n",
            "poutcome_failure     -0.2798   0.0351  -7.9767 0.0000 -0.3485 -0.2110\n",
            "poutcome_success      1.9618   0.0602  32.5940 0.0000  1.8438  2.0797\n",
            "=====================================================================\n",
            "\n"
          ],
          "name": "stdout"
        }
      ]
    },
    {
      "cell_type": "markdown",
      "metadata": {
        "id": "3NJXAbq3-lmU"
      },
      "source": [
        "log regression model"
      ]
    },
    {
      "cell_type": "code",
      "metadata": {
        "colab": {
          "base_uri": "https://localhost:8080/"
        },
        "id": "YsCrRsXZIaFS",
        "outputId": "ce18416b-616e-4f58-89f9-060c0a860d0e"
      },
      "source": [
        "from sklearn.linear_model import LogisticRegression\n",
        "from sklearn import metrics\n",
        "X_train, X_test, y_train, y_test = train_test_split(X, y, test_size=0.3, random_state=0)\n",
        "logreg = LogisticRegression()\n",
        "logreg.fit(X_train, y_train)"
      ],
      "execution_count": null,
      "outputs": [
        {
          "output_type": "execute_result",
          "data": {
            "text/plain": [
              "LogisticRegression(C=1.0, class_weight=None, dual=False, fit_intercept=True,\n",
              "                   intercept_scaling=1, l1_ratio=None, max_iter=100,\n",
              "                   multi_class='auto', n_jobs=None, penalty='l2',\n",
              "                   random_state=None, solver='lbfgs', tol=0.0001, verbose=0,\n",
              "                   warm_start=False)"
            ]
          },
          "metadata": {
            "tags": []
          },
          "execution_count": 50
        }
      ]
    },
    {
      "cell_type": "code",
      "metadata": {
        "colab": {
          "base_uri": "https://localhost:8080/"
        },
        "id": "ioaplCNsIfd4",
        "outputId": "4775c591-6a7c-4913-85b1-dfd76f58cf4f"
      },
      "source": [
        "y_pred = logreg.predict(X_test) # to find the accuracy of log reg on test ser\n",
        "print('Accuracy of logistic regression classifier on test set: {:.2f}'.format(logreg.score(X_test, y_test)))"
      ],
      "execution_count": null,
      "outputs": [
        {
          "output_type": "stream",
          "text": [
            "Accuracy of logistic regression classifier on test set: 0.74\n"
          ],
          "name": "stdout"
        }
      ]
    },
    {
      "cell_type": "markdown",
      "metadata": {
        "id": "rlUu4gd2_t5L"
      },
      "source": [
        "Confusion matrix"
      ]
    },
    {
      "cell_type": "code",
      "metadata": {
        "colab": {
          "base_uri": "https://localhost:8080/"
        },
        "id": "9CyIjWOs-yq2",
        "outputId": "457152fc-fc13-456e-ceb6-73ade449be2d"
      },
      "source": [
        "from sklearn.metrics import confusion_matrix\n",
        "confusion_matrix = confusion_matrix(y_test, y_pred)\n",
        "print(confusion_matrix)"
      ],
      "execution_count": null,
      "outputs": [
        {
          "output_type": "stream",
          "text": [
            "[[6124 1542]\n",
            " [2505 5170]]\n"
          ],
          "name": "stdout"
        }
      ]
    },
    {
      "cell_type": "markdown",
      "metadata": {
        "id": "ZD_SF6om_OQY"
      },
      "source": [
        "Above we have 6124 & 5170 correct \n",
        "2505 & 1542 incorrect"
      ]
    },
    {
      "cell_type": "code",
      "metadata": {
        "colab": {
          "base_uri": "https://localhost:8080/"
        },
        "id": "LkU9uXLD-6Ql",
        "outputId": "f58525e6-ca2a-4bfe-870d-06af80c49ab7"
      },
      "source": [
        "from sklearn.metrics import classification_report\n",
        "print(classification_report(y_test, y_pred))"
      ],
      "execution_count": null,
      "outputs": [
        {
          "output_type": "stream",
          "text": [
            "              precision    recall  f1-score   support\n",
            "\n",
            "           0       0.71      0.80      0.75      7666\n",
            "           1       0.77      0.67      0.72      7675\n",
            "\n",
            "    accuracy                           0.74     15341\n",
            "   macro avg       0.74      0.74      0.74     15341\n",
            "weighted avg       0.74      0.74      0.74     15341\n",
            "\n"
          ],
          "name": "stdout"
        }
      ]
    },
    {
      "cell_type": "markdown",
      "metadata": {
        "id": "5FKV6AZb_2lB"
      },
      "source": [
        "using the ROC curve to have a visual idea of the accuaracy of the test set"
      ]
    },
    {
      "cell_type": "code",
      "metadata": {
        "colab": {
          "base_uri": "https://localhost:8080/",
          "height": 301
        },
        "id": "r4ybfq9S-_PC",
        "outputId": "7c29cc60-a35a-4811-af83-2288d8ad0427"
      },
      "source": [
        "from sklearn.metrics import roc_auc_score\n",
        "from sklearn.metrics import roc_curve\n",
        "logit_roc_auc = roc_auc_score(y_test, logreg.predict(X_test))\n",
        "fpr, tpr, thresholds = roc_curve(y_test, logreg.predict_proba(X_test)[:,1])\n",
        "plt.figure()\n",
        "plt.plot(fpr, tpr, label='Logistic Regression (area = %0.2f)' % logit_roc_auc)\n",
        "plt.plot([0, 1], [0, 1],'r--')\n",
        "plt.xlim([0.0, 1.0])\n",
        "plt.ylim([0.0, 1.05])\n",
        "plt.xlabel('False Positive Rate')\n",
        "plt.ylabel('True Positive Rate')\n",
        "plt.title('Receiver operating characteristic')\n",
        "plt.legend(loc=\"lower right\")\n",
        "plt.savefig('Log_ROC')\n",
        "plt.show()"
      ],
      "execution_count": null,
      "outputs": [
        {
          "output_type": "display_data",
          "data": {
            "image/png": "[encoded data removed]",
            "text/plain": [
              "<Figure size 432x288 with 1 Axes>"
            ]
          },
          "metadata": {
            "tags": []
          }
        }
      ]
    }
  ]
}
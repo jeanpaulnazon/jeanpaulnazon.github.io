{
  "nbformat": 4,
  "nbformat_minor": 0,
  "metadata": {
    "colab": {
      "name": "linear Reg. project",
      "provenance": []
    },
    "kernelspec": {
      "name": "python3",
      "display_name": "Python 3"
    }
  },
  "cells": [
    {
      "cell_type": "markdown",
      "metadata": {
        "id": "HT8WhJ8hkuND"
      },
      "source": [
        "1) What are the factors that influence the number of bikes rented?\r\n",
        "\r\n",
        "2) Explore the data for outliers and missing values.\r\n",
        "\r\n",
        "3) Plot the correlation between the variables and state your comments\r\n",
        "\r\n",
        "4) Please build a linear regression model to predict rented bike count by choosing appropriate independentvariables.\r\n",
        "\r\n",
        "5) Coment on Model performance by using approapriate diagnostics and measures"
      ]
    },
    {
      "cell_type": "code",
      "metadata": {
        "id": "h7kHY5kxelyL"
      },
      "source": [
        "import pandas as pd\r\n",
        "import numpy as np\r\n",
        "\r\n",
        "import warnings\r\n",
        "warnings.filterwarnings('ignore')\r\n",
        "\r\n",
        "import seaborn as sns\r\n",
        "import matplotlib.pyplot as plt\r\n",
        "%matplotlib inline\r\n",
        "sns.set(style='white', color_codes=True)"
      ],
      "execution_count": 3,
      "outputs": []
    },
    {
      "cell_type": "code",
      "metadata": {
        "id": "oN_X2lP4jTrj"
      },
      "source": [
        "import requests #importing data SeoulBikeData.csv using the web link\r\n",
        "url = 'https://raw.githubusercontent.com/Tech-i-s/techis-ds-wiki/master/Step%203-1%20Linear%20Regression/Project/SeoulBikeData.csv?token=AR7HP3HPMDBCESGXPWTIOS3AKZWLM'\r\n",
        "res = requests.get(url, allow_redirects=True)\r\n",
        "with open('SeoulBikeData.csv','wb') as file:\r\n",
        "    file.write(res.content)\r\n",
        "Seoul_Bike = pd.read_csv('SeoulBikeData.csv')"
      ],
      "execution_count": 4,
      "outputs": []
    },
    {
      "cell_type": "code",
      "metadata": {
        "colab": {
          "base_uri": "https://localhost:8080/"
        },
        "id": "bBgqTrQakUid",
        "outputId": "f843ac1a-a840-4818-c89a-51bb6e0ff0a2"
      },
      "source": [
        "print(Seoul_Bike.head())\r\n",
        "print(Seoul_Bike.describe())\r\n",
        "print(Seoul_Bike)\r\n",
        "print(Seoul_Bike.info())\r\n",
        "print(list(set(Seoul_Bike.dtypes.tolist())))\r\n",
        "print(list(Seoul_Bike.columns))\r\n",
        "print(Seoul_Bike.corr())\r\n",
        "print(Seoul_Bike.isna().sum())"
      ],
      "execution_count": 5,
      "outputs": [
        {
          "output_type": "stream",
          "text": [
            "         Date  Rented Bike Count  Hour  ...  Seasons     Holiday  Functioning Day\n",
            "0  01/12/2017                254     0  ...   Winter  No Holiday              Yes\n",
            "1  01/12/2017                204     1  ...   Winter  No Holiday              Yes\n",
            "2  01/12/2017                173     2  ...   Winter  No Holiday              Yes\n",
            "3  01/12/2017                107     3  ...   Winter  No Holiday              Yes\n",
            "4  01/12/2017                 78     4  ...   Winter  No Holiday              Yes\n",
            "\n",
            "[5 rows x 14 columns]\n",
            "       Rented Bike Count         Hour  ...  Rainfall(mm)  Snowfall (cm)\n",
            "count        8760.000000  8760.000000  ...   8760.000000    8760.000000\n",
            "mean          704.602055    11.500000  ...      0.148687       0.075068\n",
            "std           644.997468     6.922582  ...      1.128193       0.436746\n",
            "min             0.000000     0.000000  ...      0.000000       0.000000\n",
            "25%           191.000000     5.750000  ...      0.000000       0.000000\n",
            "50%           504.500000    11.500000  ...      0.000000       0.000000\n",
            "75%          1065.250000    17.250000  ...      0.000000       0.000000\n",
            "max          3556.000000    23.000000  ...     35.000000       8.800000\n",
            "\n",
            "[8 rows x 10 columns]\n",
            "            Date  Rented Bike Count  Hour  ...  Seasons     Holiday  Functioning Day\n",
            "0     01/12/2017                254     0  ...   Winter  No Holiday              Yes\n",
            "1     01/12/2017                204     1  ...   Winter  No Holiday              Yes\n",
            "2     01/12/2017                173     2  ...   Winter  No Holiday              Yes\n",
            "3     01/12/2017                107     3  ...   Winter  No Holiday              Yes\n",
            "4     01/12/2017                 78     4  ...   Winter  No Holiday              Yes\n",
            "...          ...                ...   ...  ...      ...         ...              ...\n",
            "8755  30/11/2018               1003    19  ...   Autumn  No Holiday              Yes\n",
            "8756  30/11/2018                764    20  ...   Autumn  No Holiday              Yes\n",
            "8757  30/11/2018                694    21  ...   Autumn  No Holiday              Yes\n",
            "8758  30/11/2018                712    22  ...   Autumn  No Holiday              Yes\n",
            "8759  30/11/2018                584    23  ...   Autumn  No Holiday              Yes\n",
            "\n",
            "[8760 rows x 14 columns]\n",
            "<class 'pandas.core.frame.DataFrame'>\n",
            "RangeIndex: 8760 entries, 0 to 8759\n",
            "Data columns (total 14 columns):\n",
            " #   Column                    Non-Null Count  Dtype  \n",
            "---  ------                    --------------  -----  \n",
            " 0   Date                      8760 non-null   object \n",
            " 1   Rented Bike Count         8760 non-null   int64  \n",
            " 2   Hour                      8760 non-null   int64  \n",
            " 3   Temperature(C)            8760 non-null   float64\n",
            " 4   Humidity(%)               8760 non-null   int64  \n",
            " 5   Wind speed (m/s)          8760 non-null   float64\n",
            " 6   Visibility (10m)          8760 non-null   int64  \n",
            " 7   Dew point temperature(C)  8760 non-null   float64\n",
            " 8   Solar Radiation (MJ/m2)   8760 non-null   float64\n",
            " 9   Rainfall(mm)              8760 non-null   float64\n",
            " 10  Snowfall (cm)             8760 non-null   float64\n",
            " 11  Seasons                   8760 non-null   object \n",
            " 12  Holiday                   8760 non-null   object \n",
            " 13  Functioning Day           8760 non-null   object \n",
            "dtypes: float64(6), int64(4), object(4)\n",
            "memory usage: 958.2+ KB\n",
            "None\n",
            "[dtype('O'), dtype('int64'), dtype('float64')]\n",
            "['Date', 'Rented Bike Count', 'Hour', 'Temperature(C)', 'Humidity(%)', 'Wind speed (m/s)', 'Visibility (10m)', 'Dew point temperature(C)', 'Solar Radiation (MJ/m2)', 'Rainfall(mm)', 'Snowfall (cm)', 'Seasons', 'Holiday', 'Functioning Day']\n",
            "                          Rented Bike Count  ...  Snowfall (cm)\n",
            "Rented Bike Count                  1.000000  ...      -0.141804\n",
            "Hour                               0.410257  ...      -0.021516\n",
            "Temperature(C)                     0.538558  ...      -0.218405\n",
            "Humidity(%)                       -0.199780  ...       0.108183\n",
            "Wind speed (m/s)                   0.121108  ...      -0.003554\n",
            "Visibility (10m)                   0.199280  ...      -0.121695\n",
            "Dew point temperature(C)           0.379788  ...      -0.150887\n",
            "Solar Radiation (MJ/m2)            0.261837  ...      -0.072301\n",
            "Rainfall(mm)                      -0.123074  ...       0.008500\n",
            "Snowfall (cm)                     -0.141804  ...       1.000000\n",
            "\n",
            "[10 rows x 10 columns]\n",
            "Date                        0\n",
            "Rented Bike Count           0\n",
            "Hour                        0\n",
            "Temperature(C)              0\n",
            "Humidity(%)                 0\n",
            "Wind speed (m/s)            0\n",
            "Visibility (10m)            0\n",
            "Dew point temperature(C)    0\n",
            "Solar Radiation (MJ/m2)     0\n",
            "Rainfall(mm)                0\n",
            "Snowfall (cm)               0\n",
            "Seasons                     0\n",
            "Holiday                     0\n",
            "Functioning Day             0\n",
            "dtype: int64\n"
          ],
          "name": "stdout"
        }
      ]
    },
    {
      "cell_type": "code",
      "metadata": {
        "colab": {
          "base_uri": "https://localhost:8080/"
        },
        "id": "giGt1QHyUGG_",
        "outputId": "48d5593a-1000-4ade-be28-b73490b3ef7a"
      },
      "source": [
        "df_num = Seoul_Bike.select_dtypes(include = ['float64', 'int64']) #droping the non numerical variables\r\n",
        "df_num.info()"
      ],
      "execution_count": 6,
      "outputs": [
        {
          "output_type": "stream",
          "text": [
            "<class 'pandas.core.frame.DataFrame'>\n",
            "RangeIndex: 8760 entries, 0 to 8759\n",
            "Data columns (total 10 columns):\n",
            " #   Column                    Non-Null Count  Dtype  \n",
            "---  ------                    --------------  -----  \n",
            " 0   Rented Bike Count         8760 non-null   int64  \n",
            " 1   Hour                      8760 non-null   int64  \n",
            " 2   Temperature(C)            8760 non-null   float64\n",
            " 3   Humidity(%)               8760 non-null   int64  \n",
            " 4   Wind speed (m/s)          8760 non-null   float64\n",
            " 5   Visibility (10m)          8760 non-null   int64  \n",
            " 6   Dew point temperature(C)  8760 non-null   float64\n",
            " 7   Solar Radiation (MJ/m2)   8760 non-null   float64\n",
            " 8   Rainfall(mm)              8760 non-null   float64\n",
            " 9   Snowfall (cm)             8760 non-null   float64\n",
            "dtypes: float64(6), int64(4)\n",
            "memory usage: 684.5 KB\n"
          ],
          "name": "stdout"
        }
      ]
    },
    {
      "cell_type": "code",
      "metadata": {
        "colab": {
          "base_uri": "https://localhost:8080/"
        },
        "id": "zb3ywz8bEZ87",
        "outputId": "eff3fa95-acb2-411e-fd4c-87ec5d80eca4"
      },
      "source": [
        "import seaborn as sns\r\n",
        "import matplotlib.pyplot as plt\r\n",
        "%matplotlib inline\r\n",
        "sns.set(style='white', color_codes=True)\r\n",
        "corr = df_num.corr()['Rented Bike Count']\r\n",
        "Related_list = corr[abs(corr) > 0.1].sort_values(ascending=False)\r\n",
        "print(\"There is {} strongly correlated values with Rented Bike Count:\\n{}\".format(len(Related_list), Related_list)) \r\n"
      ],
      "execution_count": 7,
      "outputs": [
        {
          "output_type": "stream",
          "text": [
            "There is 10 strongly correlated values with Rented Bike Count:\n",
            "Rented Bike Count           1.000000\n",
            "Temperature(C)              0.538558\n",
            "Hour                        0.410257\n",
            "Dew point temperature(C)    0.379788\n",
            "Solar Radiation (MJ/m2)     0.261837\n",
            "Visibility (10m)            0.199280\n",
            "Wind speed (m/s)            0.121108\n",
            "Rainfall(mm)               -0.123074\n",
            "Snowfall (cm)              -0.141804\n",
            "Humidity(%)                -0.199780\n",
            "Name: Rented Bike Count, dtype: float64\n"
          ],
          "name": "stdout"
        }
      ]
    },
    {
      "cell_type": "code",
      "metadata": {
        "colab": {
          "base_uri": "https://localhost:8080/",
          "height": 473
        },
        "id": "2eH_mNkTjTHY",
        "outputId": "3ffb7eb6-3a4c-41d0-ca3c-fe87700dbd71"
      },
      "source": [
        "# from the Data SeoulBikeData we split in 2 data frame train for trainning and test for testing \r\n",
        "train = df_num[:10]\r\n",
        "test = df_num[10:]\r\n",
        "t_cor = train.corr()\r\n",
        "t_cor # correlation between the variables in the training data\r\n"
      ],
      "execution_count": 48,
      "outputs": [
        {
          "output_type": "execute_result",
          "data": {
            "text/html": [
              "<div>\n",
              "<style scoped>\n",
              "    .dataframe tbody tr th:only-of-type {\n",
              "        vertical-align: middle;\n",
              "    }\n",
              "\n",
              "    .dataframe tbody tr th {\n",
              "        vertical-align: top;\n",
              "    }\n",
              "\n",
              "    .dataframe thead th {\n",
              "        text-align: right;\n",
              "    }\n",
              "</style>\n",
              "<table border=\"1\" class=\"dataframe\">\n",
              "  <thead>\n",
              "    <tr style=\"text-align: right;\">\n",
              "      <th></th>\n",
              "      <th>Rented Bike Count</th>\n",
              "      <th>Hour</th>\n",
              "      <th>Temperature(C)</th>\n",
              "      <th>Humidity(%)</th>\n",
              "      <th>Wind speed (m/s)</th>\n",
              "      <th>Visibility (10m)</th>\n",
              "      <th>Dew point temperature(C)</th>\n",
              "      <th>Solar Radiation (MJ/m2)</th>\n",
              "      <th>Rainfall(mm)</th>\n",
              "      <th>Snowfall (cm)</th>\n",
              "    </tr>\n",
              "  </thead>\n",
              "  <tbody>\n",
              "    <tr>\n",
              "      <th>Rented Bike Count</th>\n",
              "      <td>1.000000</td>\n",
              "      <td>0.617831</td>\n",
              "      <td>-0.690229</td>\n",
              "      <td>-0.260252</td>\n",
              "      <td>-0.343127</td>\n",
              "      <td>-0.256052</td>\n",
              "      <td>-0.539033</td>\n",
              "      <td>0.293801</td>\n",
              "      <td>NaN</td>\n",
              "      <td>NaN</td>\n",
              "    </tr>\n",
              "    <tr>\n",
              "      <th>Hour</th>\n",
              "      <td>0.617831</td>\n",
              "      <td>1.000000</td>\n",
              "      <td>-0.856178</td>\n",
              "      <td>-0.591868</td>\n",
              "      <td>-0.411536</td>\n",
              "      <td>-0.522233</td>\n",
              "      <td>-0.886409</td>\n",
              "      <td>0.542003</td>\n",
              "      <td>NaN</td>\n",
              "      <td>NaN</td>\n",
              "    </tr>\n",
              "    <tr>\n",
              "      <th>Temperature(C)</th>\n",
              "      <td>-0.690229</td>\n",
              "      <td>-0.856178</td>\n",
              "      <td>1.000000</td>\n",
              "      <td>0.109562</td>\n",
              "      <td>0.394660</td>\n",
              "      <td>0.074947</td>\n",
              "      <td>0.546353</td>\n",
              "      <td>-0.101001</td>\n",
              "      <td>NaN</td>\n",
              "      <td>NaN</td>\n",
              "    </tr>\n",
              "    <tr>\n",
              "      <th>Humidity(%)</th>\n",
              "      <td>-0.260252</td>\n",
              "      <td>-0.591868</td>\n",
              "      <td>0.109562</td>\n",
              "      <td>1.000000</td>\n",
              "      <td>0.208399</td>\n",
              "      <td>0.918396</td>\n",
              "      <td>0.890965</td>\n",
              "      <td>-0.919427</td>\n",
              "      <td>NaN</td>\n",
              "      <td>NaN</td>\n",
              "    </tr>\n",
              "    <tr>\n",
              "      <th>Wind speed (m/s)</th>\n",
              "      <td>-0.343127</td>\n",
              "      <td>-0.411536</td>\n",
              "      <td>0.394660</td>\n",
              "      <td>0.208399</td>\n",
              "      <td>1.000000</td>\n",
              "      <td>0.444379</td>\n",
              "      <td>0.391300</td>\n",
              "      <td>-0.449995</td>\n",
              "      <td>NaN</td>\n",
              "      <td>NaN</td>\n",
              "    </tr>\n",
              "    <tr>\n",
              "      <th>Visibility (10m)</th>\n",
              "      <td>-0.256052</td>\n",
              "      <td>-0.522233</td>\n",
              "      <td>0.074947</td>\n",
              "      <td>0.918396</td>\n",
              "      <td>0.444379</td>\n",
              "      <td>1.000000</td>\n",
              "      <td>0.825228</td>\n",
              "      <td>-0.999059</td>\n",
              "      <td>NaN</td>\n",
              "      <td>NaN</td>\n",
              "    </tr>\n",
              "    <tr>\n",
              "      <th>Dew point temperature(C)</th>\n",
              "      <td>-0.539033</td>\n",
              "      <td>-0.886409</td>\n",
              "      <td>0.546353</td>\n",
              "      <td>0.890965</td>\n",
              "      <td>0.391300</td>\n",
              "      <td>0.825228</td>\n",
              "      <td>1.000000</td>\n",
              "      <td>-0.837867</td>\n",
              "      <td>NaN</td>\n",
              "      <td>NaN</td>\n",
              "    </tr>\n",
              "    <tr>\n",
              "      <th>Solar Radiation (MJ/m2)</th>\n",
              "      <td>0.293801</td>\n",
              "      <td>0.542003</td>\n",
              "      <td>-0.101001</td>\n",
              "      <td>-0.919427</td>\n",
              "      <td>-0.449995</td>\n",
              "      <td>-0.999059</td>\n",
              "      <td>-0.837867</td>\n",
              "      <td>1.000000</td>\n",
              "      <td>NaN</td>\n",
              "      <td>NaN</td>\n",
              "    </tr>\n",
              "    <tr>\n",
              "      <th>Rainfall(mm)</th>\n",
              "      <td>NaN</td>\n",
              "      <td>NaN</td>\n",
              "      <td>NaN</td>\n",
              "      <td>NaN</td>\n",
              "      <td>NaN</td>\n",
              "      <td>NaN</td>\n",
              "      <td>NaN</td>\n",
              "      <td>NaN</td>\n",
              "      <td>NaN</td>\n",
              "      <td>NaN</td>\n",
              "    </tr>\n",
              "    <tr>\n",
              "      <th>Snowfall (cm)</th>\n",
              "      <td>NaN</td>\n",
              "      <td>NaN</td>\n",
              "      <td>NaN</td>\n",
              "      <td>NaN</td>\n",
              "      <td>NaN</td>\n",
              "      <td>NaN</td>\n",
              "      <td>NaN</td>\n",
              "      <td>NaN</td>\n",
              "      <td>NaN</td>\n",
              "      <td>NaN</td>\n",
              "    </tr>\n",
              "  </tbody>\n",
              "</table>\n",
              "</div>"
            ],
            "text/plain": [
              "                          Rented Bike Count  ...  Snowfall (cm)\n",
              "Rented Bike Count                  1.000000  ...            NaN\n",
              "Hour                               0.617831  ...            NaN\n",
              "Temperature(C)                    -0.690229  ...            NaN\n",
              "Humidity(%)                       -0.260252  ...            NaN\n",
              "Wind speed (m/s)                  -0.343127  ...            NaN\n",
              "Visibility (10m)                  -0.256052  ...            NaN\n",
              "Dew point temperature(C)          -0.539033  ...            NaN\n",
              "Solar Radiation (MJ/m2)            0.293801  ...            NaN\n",
              "Rainfall(mm)                            NaN  ...            NaN\n",
              "Snowfall (cm)                           NaN  ...            NaN\n",
              "\n",
              "[10 rows x 10 columns]"
            ]
          },
          "metadata": {
            "tags": []
          },
          "execution_count": 48
        }
      ]
    },
    {
      "cell_type": "code",
      "metadata": {
        "colab": {
          "base_uri": "https://localhost:8080/"
        },
        "id": "2weAhi4_sd0N",
        "outputId": "bf600896-078d-4a25-c659-95f7ed73776d"
      },
      "source": [
        "print(test.corr())"
      ],
      "execution_count": 9,
      "outputs": [
        {
          "output_type": "stream",
          "text": [
            "                          Rented Bike Count  ...  Snowfall (cm)\n",
            "Rented Bike Count                  1.000000  ...      -0.141974\n",
            "Hour                               0.409823  ...      -0.021730\n",
            "Temperature(C)                     0.538383  ...      -0.219050\n",
            "Humidity(%)                       -0.200732  ...       0.108047\n",
            "Wind speed (m/s)                   0.120933  ...      -0.003645\n",
            "Visibility (10m)                   0.200102  ...      -0.121575\n",
            "Dew point temperature(C)           0.379338  ...      -0.151503\n",
            "Solar Radiation (MJ/m2)            0.261516  ...      -0.072442\n",
            "Rainfall(mm)                      -0.123209  ...       0.008474\n",
            "Snowfall (cm)                     -0.141974  ...       1.000000\n",
            "\n",
            "[10 rows x 10 columns]\n"
          ],
          "name": "stdout"
        }
      ]
    },
    {
      "cell_type": "code",
      "metadata": {
        "colab": {
          "base_uri": "https://localhost:8080/"
        },
        "id": "er0haeW6k7GH",
        "outputId": "806ea716-52b7-4dd3-ebd9-4bff6f5263ec"
      },
      "source": [
        "t_cor = t_cor['Rented Bike Count'] [:] # storng correlation >.3 + or - between 'Rented Bike Count' and other variables\r\n",
        "t_cor[abs(t_cor)>0.30].sort_values(ascending=False)"
      ],
      "execution_count": 10,
      "outputs": [
        {
          "output_type": "execute_result",
          "data": {
            "text/plain": [
              "Rented Bike Count           1.000000\n",
              "Hour                        0.617831\n",
              "Wind speed (m/s)           -0.343127\n",
              "Dew point temperature(C)   -0.539033\n",
              "Temperature(C)             -0.690229\n",
              "Name: Rented Bike Count, dtype: float64"
            ]
          },
          "metadata": {
            "tags": []
          },
          "execution_count": 10
        }
      ]
    },
    {
      "cell_type": "code",
      "metadata": {
        "colab": {
          "base_uri": "https://localhost:8080/"
        },
        "id": "kffcyeq_fhzy",
        "outputId": "4ebe8667-d5a6-42dd-f301-9cd7685fc1e4"
      },
      "source": [
        "print(train.info())"
      ],
      "execution_count": 13,
      "outputs": [
        {
          "output_type": "stream",
          "text": [
            "<class 'pandas.core.frame.DataFrame'>\n",
            "RangeIndex: 10 entries, 0 to 9\n",
            "Data columns (total 10 columns):\n",
            " #   Column                    Non-Null Count  Dtype  \n",
            "---  ------                    --------------  -----  \n",
            " 0   Rented Bike Count         10 non-null     int64  \n",
            " 1   Hour                      10 non-null     int64  \n",
            " 2   Temperature(C)            10 non-null     float64\n",
            " 3   Humidity(%)               10 non-null     int64  \n",
            " 4   Wind speed (m/s)          10 non-null     float64\n",
            " 5   Visibility (10m)          10 non-null     int64  \n",
            " 6   Dew point temperature(C)  10 non-null     float64\n",
            " 7   Solar Radiation (MJ/m2)   10 non-null     float64\n",
            " 8   Rainfall(mm)              10 non-null     float64\n",
            " 9   Snowfall (cm)             10 non-null     float64\n",
            "dtypes: float64(6), int64(4)\n",
            "memory usage: 928.0 bytes\n",
            "None\n"
          ],
          "name": "stdout"
        }
      ]
    },
    {
      "cell_type": "code",
      "metadata": {
        "id": "b7R9XPkodSX7"
      },
      "source": [
        "# test.drop(['Rented Bike Count'],axis = 1, inplace = True)\r\n",
        "train = train[['Rented Bike Count','Hour','Temperature(C)','Humidity(%)','Wind speed (m/s)','Visibility (10m)','Dew point temperature(C)','Solar Radiation (MJ/m2)','Rainfall(mm)','Snowfall (cm)']]\r\n",
        "test = test[['Hour','Temperature(C)','Humidity(%)','Wind speed (m/s)','Visibility (10m)','Dew point temperature(C)','Solar Radiation (MJ/m2)','Rainfall(mm)','Snowfall (cm)']]\r\n"
      ],
      "execution_count": 15,
      "outputs": []
    },
    {
      "cell_type": "code",
      "metadata": {
        "colab": {
          "base_uri": "https://localhost:8080/",
          "height": 586
        },
        "id": "QRoIeaVGeqAN",
        "outputId": "a27e6faf-cab5-4f42-b793-08acda12c9d3"
      },
      "source": [
        "corr = train.corr()  # using the heatmap to show the correlation between the vvariables\r\n",
        "plt.figure(figsize=(8,8))\r\n",
        "sns.heatmap(corr, annot=True, cmap='cubehelix_r',square=True) \r\n",
        "plt.show()"
      ],
      "execution_count": 20,
      "outputs": [
        {
          "output_type": "display_data",
          "data": {
            "image/png": "[encoded data removed]",
            "text/plain": [
              "<Figure size 576x576 with 2 Axes>"
            ]
          },
          "metadata": {
            "tags": []
          }
        }
      ]
    },
    {
      "cell_type": "code",
      "metadata": {
        "colab": {
          "base_uri": "https://localhost:8080/"
        },
        "id": "xYjA1KatoL7K",
        "outputId": "7a75386a-d338-494f-9105-f1c5c90c2257"
      },
      "source": [
        "from sklearn.model_selection import train_test_split\r\n",
        "train, val = train_test_split(train, test_size=0.25)\r\n",
        "#considering only the highly correlated features for training and validation\r\n",
        "train_x = train.drop(['Rented Bike Count'], axis = 1)\r\n",
        "train_y = train['Rented Bike Count']             # output of the training data\r\n",
        "\r\n",
        "val_x = val.drop(['Rented Bike Count'], axis = 1)\r\n",
        "val_y = val['Rented Bike Count']\r\n",
        "\r\n",
        "print('Dimension of train_x dataframe:',train_x.shape)\r\n",
        "print('Dimension of train_y dataframe:',train_y.shape)\r\n",
        "print('Dimension of val_x dataframe:',val_x.shape)\r\n",
        "print('Dimension of val_y dataframe:',val_y.shape)"
      ],
      "execution_count": 38,
      "outputs": [
        {
          "output_type": "stream",
          "text": [
            "Dimension of train_x dataframe: (3, 9)\n",
            "Dimension of train_y dataframe: (3,)\n",
            "Dimension of val_x dataframe: (2, 9)\n",
            "Dimension of val_y dataframe: (2,)\n"
          ],
          "name": "stdout"
        }
      ]
    },
    {
      "cell_type": "code",
      "metadata": {
        "colab": {
          "base_uri": "https://localhost:8080/"
        },
        "id": "H545qxIcn8Bw",
        "outputId": "b3e7f2ba-e17f-44e2-be64-c21281dd2b41"
      },
      "source": [
        "from sklearn.linear_model import LinearRegression\r\n",
        "\r\n",
        "ln_reg = LinearRegression()\r\n",
        "ln_reg.fit(train_x, train_y)\r\n",
        "\r\n"
      ],
      "execution_count": 39,
      "outputs": [
        {
          "output_type": "execute_result",
          "data": {
            "text/plain": [
              "LinearRegression(copy_X=True, fit_intercept=True, n_jobs=None, normalize=False)"
            ]
          },
          "metadata": {
            "tags": []
          },
          "execution_count": 39
        }
      ]
    },
    {
      "cell_type": "code",
      "metadata": {
        "colab": {
          "base_uri": "https://localhost:8080/"
        },
        "id": "olGrOuHEpXU7",
        "outputId": "015c63b6-9bd9-46d2-8354-ad624b7c8ebb"
      },
      "source": [
        "from sklearn.metrics import mean_squared_error,mean_absolute_error, r2_score\r\n",
        "\r\n",
        "df_pred = ln_reg.predict(val_x)\r\n",
        "print('Mean Absolute Error of linear regression:',mean_absolute_error(df_pred, val_y))\r\n",
        "print('Mean Square Error of linear regression:', mean_squared_error(df_pred, val_y))\r\n",
        "print('R_Squared Score of linear regression:', r2_score(df_pred, val_y))"
      ],
      "execution_count": 40,
      "outputs": [
        {
          "output_type": "stream",
          "text": [
            "Mean Absolute Error of linear regression: 387.001980097412\n",
            "Mean Square Error of linear regression: 150973.79479419088\n",
            "R_Squared Score of linear regression: -98.26964257911904\n"
          ],
          "name": "stdout"
        }
      ]
    },
    {
      "cell_type": "code",
      "metadata": {
        "colab": {
          "base_uri": "https://localhost:8080/",
          "height": 108
        },
        "id": "QNZSufOxjY3k",
        "outputId": "bf15b3b0-b3bd-4f20-a1d0-9b4e90f6a43a"
      },
      "source": [
        "\r\n",
        "\r\n",
        "#final prediction on test data\r\n",
        "predic_test = ln_reg.predict(test)\r\n",
        "\r\n",
        "#Create Sample Submission file \r\n",
        "submission_data = pd.DataFrame({'Hour':test.Hour,'Pred_RentedBike':predic_test})\r\n",
        "submission_data\r\n",
        "val_y = pd.DataFrame(val_y)\r\n",
        "val_y['Predicted'] = submission_data['Pred_RentedBike']\r\n",
        "\r\n",
        "val_y"
      ],
      "execution_count": 47,
      "outputs": [
        {
          "output_type": "execute_result",
          "data": {
            "text/html": [
              "<div>\n",
              "<style scoped>\n",
              "    .dataframe tbody tr th:only-of-type {\n",
              "        vertical-align: middle;\n",
              "    }\n",
              "\n",
              "    .dataframe tbody tr th {\n",
              "        vertical-align: top;\n",
              "    }\n",
              "\n",
              "    .dataframe thead th {\n",
              "        text-align: right;\n",
              "    }\n",
              "</style>\n",
              "<table border=\"1\" class=\"dataframe\">\n",
              "  <thead>\n",
              "    <tr style=\"text-align: right;\">\n",
              "      <th></th>\n",
              "      <th>Rented Bike Count</th>\n",
              "      <th>Predicted</th>\n",
              "    </tr>\n",
              "  </thead>\n",
              "  <tbody>\n",
              "    <tr>\n",
              "      <th>4</th>\n",
              "      <td>78</td>\n",
              "      <td>NaN</td>\n",
              "    </tr>\n",
              "    <tr>\n",
              "      <th>8</th>\n",
              "      <td>930</td>\n",
              "      <td>NaN</td>\n",
              "    </tr>\n",
              "  </tbody>\n",
              "</table>\n",
              "</div>"
            ],
            "text/plain": [
              "   Rented Bike Count  Predicted\n",
              "4                 78        NaN\n",
              "8                930        NaN"
            ]
          },
          "metadata": {
            "tags": []
          },
          "execution_count": 47
        }
      ]
    },
    {
      "cell_type": "code",
      "metadata": {
        "colab": {
          "base_uri": "https://localhost:8080/"
        },
        "id": "A0mRFJHcqgd5",
        "outputId": "e3066cc4-2653-4669-9f7e-2929297490f7"
      },
      "source": [
        "from sklearn.linear_model import Ridge\r\n",
        "\r\n",
        "ridge = Ridge()\r\n",
        "ridge\r\n",
        "\r\n",
        "ridge.fit(train_x,train_y)\r\n",
        "ridge_score = ridge.score(val_x,val_y)\r\n",
        "coeff_used = np.sum(ridge.coef_ != 0)\r\n",
        "ridge.coef_\r\n",
        "\r\n",
        "print(\"training score\",ridge_score)\r\n",
        "print(\"number of feature used:\",coeff_used)"
      ],
      "execution_count": 43,
      "outputs": [
        {
          "output_type": "stream",
          "text": [
            "training score -24.549925062844885\n",
            "number of feature used: 7\n"
          ],
          "name": "stdout"
        }
      ]
    },
    {
      "cell_type": "code",
      "metadata": {
        "colab": {
          "base_uri": "https://localhost:8080/"
        },
        "id": "LvqLOWXDrAaR",
        "outputId": "95a025c7-8e9b-466e-f60c-37a48574975a"
      },
      "source": [
        "from sklearn.linear_model import Lasso \r\n",
        "lasso = Lasso()\r\n",
        "lasso\r\n",
        "\r\n",
        "lasso.fit(train_x,train_y)\r\n",
        "lasso_score = lasso.score(val_x,val_y)\r\n",
        "coeff_used = np.sum(lasso.coef_ != 0)\r\n",
        "lasso.coef_\r\n",
        "\r\n",
        "print(\"training score\",lasso_score)\r\n",
        "print(\"number of feature used:\",coeff_used)"
      ],
      "execution_count": 44,
      "outputs": [
        {
          "output_type": "stream",
          "text": [
            "training score -52.659325983911465\n",
            "number of feature used: 4\n"
          ],
          "name": "stdout"
        }
      ]
    },
    {
      "cell_type": "markdown",
      "metadata": {
        "id": "OVAYxlxSi9Q9"
      },
      "source": [
        " Ridge regression has a better trainning score and uses more variables."
      ]
    }
  ]
}